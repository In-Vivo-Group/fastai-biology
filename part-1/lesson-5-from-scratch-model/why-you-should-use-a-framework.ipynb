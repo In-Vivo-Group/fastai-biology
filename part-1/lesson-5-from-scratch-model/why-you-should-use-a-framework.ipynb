{
 "cells": [
  {
   "cell_type": "markdown",
   "id": "7ce67076",
   "metadata": {
    "papermill": {
     "duration": 0.13284,
     "end_time": "2024-07-18T16:43:28.203473",
     "exception": false,
     "start_time": "2024-07-18T16:43:28.070633",
     "status": "completed"
    },
    "tags": []
   },
   "source": [
    "## Introduction"
   ]
  },
  {
   "cell_type": "markdown",
   "id": "e0a6df53",
   "metadata": {
    "papermill": {
     "duration": 0.128522,
     "end_time": "2024-07-18T16:43:28.460296",
     "exception": false,
     "start_time": "2024-07-18T16:43:28.331774",
     "status": "completed"
    },
    "tags": []
   },
   "source": [
    "In this notebook we're going to build and train a deep learning model \"from scratch\" -- by which I mean that we're not going to use any pre-built architecture, or optimizers, or data loading frameworks, etc.\n",
    "\n",
    "We'll be assuming you already know the basics of how a neural network works. If you don't, read this notebook first: [How does a neural net really work?\n",
    "](https://www.kaggle.com/code/jhoward/how-does-a-neural-net-really-work). We'll be using Kaggle's [Titanic](https://www.kaggle.com/competitions/titanic/) competition in this notebook, because it's very small and simple, but also has displays many of the tricky real-life issues that we need to handle in most practical projects. (Note, however, that this competition is a small \"learner\" competition on Kaggle, so don't expect to actually see much benefits from using a neural net just yet; that will come once we try our some real competitions!)\n",
    "\n",
    "It's great to be able to run the same notebook on your own machine or Colab, as well as Kaggle. To allow for this, we use this code to download the data as needed when not on Kaggle (see [this notebook](https://www.kaggle.com/code/jhoward/getting-started-with-nlp-for-absolute-beginners/) for details about this technique):"
   ]
  },
  {
   "cell_type": "code",
   "execution_count": 1,
   "id": "8e12b26d",
   "metadata": {
    "execution": {
     "iopub.execute_input": "2024-07-18T16:43:28.720404Z",
     "iopub.status.busy": "2024-07-18T16:43:28.720054Z",
     "iopub.status.idle": "2024-07-18T16:43:28.731503Z",
     "shell.execute_reply": "2024-07-18T16:43:28.730845Z"
    },
    "papermill": {
     "duration": 0.143482,
     "end_time": "2024-07-18T16:43:28.733436",
     "exception": false,
     "start_time": "2024-07-18T16:43:28.589954",
     "status": "completed"
    },
    "tags": []
   },
   "outputs": [],
   "source": [
    "import os\n",
    "from pathlib import Path\n",
    "\n",
    "iskaggle = os.environ.get('KAGGLE_KERNEL_RUN_TYPE', '')\n",
    "if iskaggle: path = Path('../input/titanic')\n",
    "else:\n",
    "    path = Path('titanic')\n",
    "    if not path.exists():\n",
    "        import zipfile,kaggle\n",
    "        kaggle.api.competition_download_cli(str(path))\n",
    "        zipfile.ZipFile(f'{path}.zip').extractall(path)"
   ]
  },
  {
   "cell_type": "markdown",
   "id": "cfe7e3ab",
   "metadata": {
    "hidden": true,
    "papermill": {
     "duration": 0.127609,
     "end_time": "2024-07-18T16:43:28.989275",
     "exception": false,
     "start_time": "2024-07-18T16:43:28.861666",
     "status": "completed"
    },
    "tags": []
   },
   "source": [
    "Note that the data for Kaggle comps always lives in the `../input` folder. The easiest way to get the path is to click the \"K\" button in the top-right of the Kaggle notebook, click on the folder shown there, and click the copy button.\n",
    "\n",
    "We'll be using *numpy* and *pytorch* for array calculations in this notebook, and *pandas* for working with tabular data, so we'll import them and set them to display using a bit more space than they default to."
   ]
  },
  {
   "cell_type": "code",
   "execution_count": 2,
   "id": "c6cb3f93",
   "metadata": {
    "execution": {
     "iopub.execute_input": "2024-07-18T16:43:29.246398Z",
     "iopub.status.busy": "2024-07-18T16:43:29.245940Z",
     "iopub.status.idle": "2024-07-18T16:43:31.060961Z",
     "shell.execute_reply": "2024-07-18T16:43:31.060198Z"
    },
    "papermill": {
     "duration": 1.946433,
     "end_time": "2024-07-18T16:43:31.063212",
     "exception": false,
     "start_time": "2024-07-18T16:43:29.116779",
     "status": "completed"
    },
    "tags": []
   },
   "outputs": [],
   "source": [
    "import torch, numpy as np, pandas as pd\n",
    "np.set_printoptions(linewidth=140)\n",
    "torch.set_printoptions(linewidth=140, sci_mode=False, edgeitems=7)\n",
    "pd.set_option('display.width', 140)"
   ]
  },
  {
   "cell_type": "markdown",
   "id": "76b38946",
   "metadata": {
    "heading_collapsed": true,
    "papermill": {
     "duration": 0.12831,
     "end_time": "2024-07-18T16:43:31.320846",
     "exception": false,
     "start_time": "2024-07-18T16:43:31.192536",
     "status": "completed"
    },
    "tags": []
   },
   "source": [
    "## Cleaning the data"
   ]
  },
  {
   "cell_type": "markdown",
   "id": "f58c6f77",
   "metadata": {
    "hidden": true,
    "papermill": {
     "duration": 0.129963,
     "end_time": "2024-07-18T16:43:31.579396",
     "exception": false,
     "start_time": "2024-07-18T16:43:31.449433",
     "status": "completed"
    },
    "tags": []
   },
   "source": [
    "This is a *tabular data* competition -- the data is in the form of a table. It's provided as a Comma Separated Values (CSV) file. We can open it using the *pandas* library, which will create a `DataFrame`."
   ]
  },
  {
   "cell_type": "code",
   "execution_count": 3,
   "id": "2eac3377",
   "metadata": {
    "execution": {
     "iopub.execute_input": "2024-07-18T16:43:31.837343Z",
     "iopub.status.busy": "2024-07-18T16:43:31.836784Z",
     "iopub.status.idle": "2024-07-18T16:43:31.880980Z",
     "shell.execute_reply": "2024-07-18T16:43:31.880266Z"
    },
    "hidden": true,
    "papermill": {
     "duration": 0.175311,
     "end_time": "2024-07-18T16:43:31.883294",
     "exception": false,
     "start_time": "2024-07-18T16:43:31.707983",
     "status": "completed"
    },
    "scrolled": true,
    "tags": []
   },
   "outputs": [
    {
     "data": {
      "text/html": [
       "<div>\n",
       "<style scoped>\n",
       "    .dataframe tbody tr th:only-of-type {\n",
       "        vertical-align: middle;\n",
       "    }\n",
       "\n",
       "    .dataframe tbody tr th {\n",
       "        vertical-align: top;\n",
       "    }\n",
       "\n",
       "    .dataframe thead th {\n",
       "        text-align: right;\n",
       "    }\n",
       "</style>\n",
       "<table border=\"1\" class=\"dataframe\">\n",
       "  <thead>\n",
       "    <tr style=\"text-align: right;\">\n",
       "      <th></th>\n",
       "      <th>PassengerId</th>\n",
       "      <th>Survived</th>\n",
       "      <th>Pclass</th>\n",
       "      <th>Name</th>\n",
       "      <th>Sex</th>\n",
       "      <th>Age</th>\n",
       "      <th>SibSp</th>\n",
       "      <th>Parch</th>\n",
       "      <th>Ticket</th>\n",
       "      <th>Fare</th>\n",
       "      <th>Cabin</th>\n",
       "      <th>Embarked</th>\n",
       "    </tr>\n",
       "  </thead>\n",
       "  <tbody>\n",
       "    <tr>\n",
       "      <th>0</th>\n",
       "      <td>1</td>\n",
       "      <td>0</td>\n",
       "      <td>3</td>\n",
       "      <td>Braund, Mr. Owen Harris</td>\n",
       "      <td>male</td>\n",
       "      <td>22.0</td>\n",
       "      <td>1</td>\n",
       "      <td>0</td>\n",
       "      <td>A/5 21171</td>\n",
       "      <td>7.2500</td>\n",
       "      <td>NaN</td>\n",
       "      <td>S</td>\n",
       "    </tr>\n",
       "    <tr>\n",
       "      <th>1</th>\n",
       "      <td>2</td>\n",
       "      <td>1</td>\n",
       "      <td>1</td>\n",
       "      <td>Cumings, Mrs. John Bradley (Florence Briggs Th...</td>\n",
       "      <td>female</td>\n",
       "      <td>38.0</td>\n",
       "      <td>1</td>\n",
       "      <td>0</td>\n",
       "      <td>PC 17599</td>\n",
       "      <td>71.2833</td>\n",
       "      <td>C85</td>\n",
       "      <td>C</td>\n",
       "    </tr>\n",
       "    <tr>\n",
       "      <th>2</th>\n",
       "      <td>3</td>\n",
       "      <td>1</td>\n",
       "      <td>3</td>\n",
       "      <td>Heikkinen, Miss. Laina</td>\n",
       "      <td>female</td>\n",
       "      <td>26.0</td>\n",
       "      <td>0</td>\n",
       "      <td>0</td>\n",
       "      <td>STON/O2. 3101282</td>\n",
       "      <td>7.9250</td>\n",
       "      <td>NaN</td>\n",
       "      <td>S</td>\n",
       "    </tr>\n",
       "    <tr>\n",
       "      <th>3</th>\n",
       "      <td>4</td>\n",
       "      <td>1</td>\n",
       "      <td>1</td>\n",
       "      <td>Futrelle, Mrs. Jacques Heath (Lily May Peel)</td>\n",
       "      <td>female</td>\n",
       "      <td>35.0</td>\n",
       "      <td>1</td>\n",
       "      <td>0</td>\n",
       "      <td>113803</td>\n",
       "      <td>53.1000</td>\n",
       "      <td>C123</td>\n",
       "      <td>S</td>\n",
       "    </tr>\n",
       "    <tr>\n",
       "      <th>4</th>\n",
       "      <td>5</td>\n",
       "      <td>0</td>\n",
       "      <td>3</td>\n",
       "      <td>Allen, Mr. William Henry</td>\n",
       "      <td>male</td>\n",
       "      <td>35.0</td>\n",
       "      <td>0</td>\n",
       "      <td>0</td>\n",
       "      <td>373450</td>\n",
       "      <td>8.0500</td>\n",
       "      <td>NaN</td>\n",
       "      <td>S</td>\n",
       "    </tr>\n",
       "    <tr>\n",
       "      <th>...</th>\n",
       "      <td>...</td>\n",
       "      <td>...</td>\n",
       "      <td>...</td>\n",
       "      <td>...</td>\n",
       "      <td>...</td>\n",
       "      <td>...</td>\n",
       "      <td>...</td>\n",
       "      <td>...</td>\n",
       "      <td>...</td>\n",
       "      <td>...</td>\n",
       "      <td>...</td>\n",
       "      <td>...</td>\n",
       "    </tr>\n",
       "    <tr>\n",
       "      <th>886</th>\n",
       "      <td>887</td>\n",
       "      <td>0</td>\n",
       "      <td>2</td>\n",
       "      <td>Montvila, Rev. Juozas</td>\n",
       "      <td>male</td>\n",
       "      <td>27.0</td>\n",
       "      <td>0</td>\n",
       "      <td>0</td>\n",
       "      <td>211536</td>\n",
       "      <td>13.0000</td>\n",
       "      <td>NaN</td>\n",
       "      <td>S</td>\n",
       "    </tr>\n",
       "    <tr>\n",
       "      <th>887</th>\n",
       "      <td>888</td>\n",
       "      <td>1</td>\n",
       "      <td>1</td>\n",
       "      <td>Graham, Miss. Margaret Edith</td>\n",
       "      <td>female</td>\n",
       "      <td>19.0</td>\n",
       "      <td>0</td>\n",
       "      <td>0</td>\n",
       "      <td>112053</td>\n",
       "      <td>30.0000</td>\n",
       "      <td>B42</td>\n",
       "      <td>S</td>\n",
       "    </tr>\n",
       "    <tr>\n",
       "      <th>888</th>\n",
       "      <td>889</td>\n",
       "      <td>0</td>\n",
       "      <td>3</td>\n",
       "      <td>Johnston, Miss. Catherine Helen \"Carrie\"</td>\n",
       "      <td>female</td>\n",
       "      <td>NaN</td>\n",
       "      <td>1</td>\n",
       "      <td>2</td>\n",
       "      <td>W./C. 6607</td>\n",
       "      <td>23.4500</td>\n",
       "      <td>NaN</td>\n",
       "      <td>S</td>\n",
       "    </tr>\n",
       "    <tr>\n",
       "      <th>889</th>\n",
       "      <td>890</td>\n",
       "      <td>1</td>\n",
       "      <td>1</td>\n",
       "      <td>Behr, Mr. Karl Howell</td>\n",
       "      <td>male</td>\n",
       "      <td>26.0</td>\n",
       "      <td>0</td>\n",
       "      <td>0</td>\n",
       "      <td>111369</td>\n",
       "      <td>30.0000</td>\n",
       "      <td>C148</td>\n",
       "      <td>C</td>\n",
       "    </tr>\n",
       "    <tr>\n",
       "      <th>890</th>\n",
       "      <td>891</td>\n",
       "      <td>0</td>\n",
       "      <td>3</td>\n",
       "      <td>Dooley, Mr. Patrick</td>\n",
       "      <td>male</td>\n",
       "      <td>32.0</td>\n",
       "      <td>0</td>\n",
       "      <td>0</td>\n",
       "      <td>370376</td>\n",
       "      <td>7.7500</td>\n",
       "      <td>NaN</td>\n",
       "      <td>Q</td>\n",
       "    </tr>\n",
       "  </tbody>\n",
       "</table>\n",
       "<p>891 rows × 12 columns</p>\n",
       "</div>"
      ],
      "text/plain": [
       "     PassengerId  Survived  Pclass                                               Name     Sex   Age  SibSp  Parch            Ticket  \\\n",
       "0              1         0       3                            Braund, Mr. Owen Harris    male  22.0      1      0         A/5 21171   \n",
       "1              2         1       1  Cumings, Mrs. John Bradley (Florence Briggs Th...  female  38.0      1      0          PC 17599   \n",
       "2              3         1       3                             Heikkinen, Miss. Laina  female  26.0      0      0  STON/O2. 3101282   \n",
       "3              4         1       1       Futrelle, Mrs. Jacques Heath (Lily May Peel)  female  35.0      1      0            113803   \n",
       "4              5         0       3                           Allen, Mr. William Henry    male  35.0      0      0            373450   \n",
       "..           ...       ...     ...                                                ...     ...   ...    ...    ...               ...   \n",
       "886          887         0       2                              Montvila, Rev. Juozas    male  27.0      0      0            211536   \n",
       "887          888         1       1                       Graham, Miss. Margaret Edith  female  19.0      0      0            112053   \n",
       "888          889         0       3           Johnston, Miss. Catherine Helen \"Carrie\"  female   NaN      1      2        W./C. 6607   \n",
       "889          890         1       1                              Behr, Mr. Karl Howell    male  26.0      0      0            111369   \n",
       "890          891         0       3                                Dooley, Mr. Patrick    male  32.0      0      0            370376   \n",
       "\n",
       "        Fare Cabin Embarked  \n",
       "0     7.2500   NaN        S  \n",
       "1    71.2833   C85        C  \n",
       "2     7.9250   NaN        S  \n",
       "3    53.1000  C123        S  \n",
       "4     8.0500   NaN        S  \n",
       "..       ...   ...      ...  \n",
       "886  13.0000   NaN        S  \n",
       "887  30.0000   B42        S  \n",
       "888  23.4500   NaN        S  \n",
       "889  30.0000  C148        C  \n",
       "890   7.7500   NaN        Q  \n",
       "\n",
       "[891 rows x 12 columns]"
      ]
     },
     "execution_count": 3,
     "metadata": {},
     "output_type": "execute_result"
    }
   ],
   "source": [
    "df = pd.read_csv(path/'train.csv')\n",
    "df"
   ]
  },
  {
   "cell_type": "markdown",
   "id": "15f92624",
   "metadata": {
    "hidden": true,
    "papermill": {
     "duration": 0.128245,
     "end_time": "2024-07-18T16:43:32.142643",
     "exception": false,
     "start_time": "2024-07-18T16:43:32.014398",
     "status": "completed"
    },
    "tags": []
   },
   "source": [
    "As we learned in the *How does a neural net really work* notebook, we going to want to multiply each column by some coefficients. But we can see in the `Cabin` column that there are `NaN` values, which is how Pandas refers to missing values. We can't multiply something by a missing value!\n",
    "\n",
    "Let's check which columns contain `NaN` values. Pandas' `isna()` function returns `True` (which is treated as `1` when used as a number) for `NaN` values, so we can just add them up for each column:"
   ]
  },
  {
   "cell_type": "code",
   "execution_count": 4,
   "id": "5269e592",
   "metadata": {
    "execution": {
     "iopub.execute_input": "2024-07-18T16:43:32.403154Z",
     "iopub.status.busy": "2024-07-18T16:43:32.402623Z",
     "iopub.status.idle": "2024-07-18T16:43:32.411476Z",
     "shell.execute_reply": "2024-07-18T16:43:32.410731Z"
    },
    "hidden": true,
    "papermill": {
     "duration": 0.140822,
     "end_time": "2024-07-18T16:43:32.413268",
     "exception": false,
     "start_time": "2024-07-18T16:43:32.272446",
     "status": "completed"
    },
    "tags": []
   },
   "outputs": [
    {
     "data": {
      "text/plain": [
       "PassengerId      0\n",
       "Survived         0\n",
       "Pclass           0\n",
       "Name             0\n",
       "Sex              0\n",
       "Age            177\n",
       "SibSp            0\n",
       "Parch            0\n",
       "Ticket           0\n",
       "Fare             0\n",
       "Cabin          687\n",
       "Embarked         2\n",
       "dtype: int64"
      ]
     },
     "execution_count": 4,
     "metadata": {},
     "output_type": "execute_result"
    }
   ],
   "source": [
    "df.isna().sum()"
   ]
  },
  {
   "cell_type": "markdown",
   "id": "169538f4",
   "metadata": {
    "hidden": true,
    "papermill": {
     "duration": 0.130317,
     "end_time": "2024-07-18T16:43:32.674545",
     "exception": false,
     "start_time": "2024-07-18T16:43:32.544228",
     "status": "completed"
    },
    "tags": []
   },
   "source": [
    "Notice that by default Pandas sums over columns.\n",
    "\n",
    "We'll need to replace the missing values with something. It doesn't generally matter too much what we choose. We'll use the most common value (the \"*mode*\"). We can use the `mode` function for that. One wrinkle is that it returns more than one row in the case of ties, so we just grab the first row with `iloc[0]`:"
   ]
  },
  {
   "cell_type": "code",
   "execution_count": 5,
   "id": "14cdc8a5",
   "metadata": {
    "execution": {
     "iopub.execute_input": "2024-07-18T16:43:32.935072Z",
     "iopub.status.busy": "2024-07-18T16:43:32.934811Z",
     "iopub.status.idle": "2024-07-18T16:43:32.956054Z",
     "shell.execute_reply": "2024-07-18T16:43:32.955311Z"
    },
    "hidden": true,
    "papermill": {
     "duration": 0.153364,
     "end_time": "2024-07-18T16:43:32.957799",
     "exception": false,
     "start_time": "2024-07-18T16:43:32.804435",
     "status": "completed"
    },
    "tags": []
   },
   "outputs": [
    {
     "data": {
      "text/plain": [
       "PassengerId                      1\n",
       "Survived                       0.0\n",
       "Pclass                         3.0\n",
       "Name           Abbing, Mr. Anthony\n",
       "Sex                           male\n",
       "Age                           24.0\n",
       "SibSp                          0.0\n",
       "Parch                          0.0\n",
       "Ticket                        1601\n",
       "Fare                          8.05\n",
       "Cabin                      B96 B98\n",
       "Embarked                         S\n",
       "Name: 0, dtype: object"
      ]
     },
     "execution_count": 5,
     "metadata": {},
     "output_type": "execute_result"
    }
   ],
   "source": [
    "modes = df.mode().iloc[0]\n",
    "modes"
   ]
  },
  {
   "cell_type": "markdown",
   "id": "9fbc51f6",
   "metadata": {
    "hidden": true,
    "papermill": {
     "duration": 0.129688,
     "end_time": "2024-07-18T16:43:33.216789",
     "exception": false,
     "start_time": "2024-07-18T16:43:33.087101",
     "status": "completed"
    },
    "tags": []
   },
   "source": [
    "BTW, it's never a good idea to use functions without understanding them. So be sure to google for anything you're not familiar with. E.g if you want to learn about `iloc` (which is a very important function indeed!) then Google will give you a link to a [great tutorial](https://www.shanelynn.ie/pandas-iloc-loc-select-rows-and-columns-dataframe/).\n",
    "\n",
    "Now that we've got the mode of each column, we can use `fillna` to replace the missing values with the mode of each column. We'll do it \"in place\" -- meaning that we'll change the dataframe itself, rather than returning a new one."
   ]
  },
  {
   "cell_type": "code",
   "execution_count": 6,
   "id": "f24a8f7d",
   "metadata": {
    "execution": {
     "iopub.execute_input": "2024-07-18T16:43:33.479249Z",
     "iopub.status.busy": "2024-07-18T16:43:33.478546Z",
     "iopub.status.idle": "2024-07-18T16:43:33.489702Z",
     "shell.execute_reply": "2024-07-18T16:43:33.489132Z"
    },
    "hidden": true,
    "papermill": {
     "duration": 0.144213,
     "end_time": "2024-07-18T16:43:33.491453",
     "exception": false,
     "start_time": "2024-07-18T16:43:33.347240",
     "status": "completed"
    },
    "tags": []
   },
   "outputs": [],
   "source": [
    "df.fillna(modes, inplace=True)"
   ]
  },
  {
   "cell_type": "markdown",
   "id": "7bd05262",
   "metadata": {
    "hidden": true,
    "papermill": {
     "duration": 0.129694,
     "end_time": "2024-07-18T16:43:33.752308",
     "exception": false,
     "start_time": "2024-07-18T16:43:33.622614",
     "status": "completed"
    },
    "tags": []
   },
   "source": [
    "We can now check there's no missing values left:"
   ]
  },
  {
   "cell_type": "code",
   "execution_count": 7,
   "id": "d2b093d5",
   "metadata": {
    "execution": {
     "iopub.execute_input": "2024-07-18T16:43:34.012812Z",
     "iopub.status.busy": "2024-07-18T16:43:34.012468Z",
     "iopub.status.idle": "2024-07-18T16:43:34.020661Z",
     "shell.execute_reply": "2024-07-18T16:43:34.020005Z"
    },
    "hidden": true,
    "papermill": {
     "duration": 0.140767,
     "end_time": "2024-07-18T16:43:34.022562",
     "exception": false,
     "start_time": "2024-07-18T16:43:33.881795",
     "status": "completed"
    },
    "tags": []
   },
   "outputs": [
    {
     "data": {
      "text/plain": [
       "PassengerId    0\n",
       "Survived       0\n",
       "Pclass         0\n",
       "Name           0\n",
       "Sex            0\n",
       "Age            0\n",
       "SibSp          0\n",
       "Parch          0\n",
       "Ticket         0\n",
       "Fare           0\n",
       "Cabin          0\n",
       "Embarked       0\n",
       "dtype: int64"
      ]
     },
     "execution_count": 7,
     "metadata": {},
     "output_type": "execute_result"
    }
   ],
   "source": [
    "df.isna().sum()"
   ]
  },
  {
   "cell_type": "markdown",
   "id": "92792a71",
   "metadata": {
    "hidden": true,
    "papermill": {
     "duration": 0.130387,
     "end_time": "2024-07-18T16:43:34.282328",
     "exception": false,
     "start_time": "2024-07-18T16:43:34.151941",
     "status": "completed"
    },
    "tags": []
   },
   "source": [
    "Here's how we get a quick summary of all the numeric columns in the dataset:"
   ]
  },
  {
   "cell_type": "code",
   "execution_count": 8,
   "id": "ac9d44d0",
   "metadata": {
    "execution": {
     "iopub.execute_input": "2024-07-18T16:43:34.546227Z",
     "iopub.status.busy": "2024-07-18T16:43:34.545459Z",
     "iopub.status.idle": "2024-07-18T16:43:34.578626Z",
     "shell.execute_reply": "2024-07-18T16:43:34.577894Z"
    },
    "hidden": true,
    "papermill": {
     "duration": 0.16776,
     "end_time": "2024-07-18T16:43:34.580508",
     "exception": false,
     "start_time": "2024-07-18T16:43:34.412748",
     "status": "completed"
    },
    "tags": []
   },
   "outputs": [
    {
     "data": {
      "text/html": [
       "<div>\n",
       "<style scoped>\n",
       "    .dataframe tbody tr th:only-of-type {\n",
       "        vertical-align: middle;\n",
       "    }\n",
       "\n",
       "    .dataframe tbody tr th {\n",
       "        vertical-align: top;\n",
       "    }\n",
       "\n",
       "    .dataframe thead th {\n",
       "        text-align: right;\n",
       "    }\n",
       "</style>\n",
       "<table border=\"1\" class=\"dataframe\">\n",
       "  <thead>\n",
       "    <tr style=\"text-align: right;\">\n",
       "      <th></th>\n",
       "      <th>PassengerId</th>\n",
       "      <th>Survived</th>\n",
       "      <th>Pclass</th>\n",
       "      <th>Age</th>\n",
       "      <th>SibSp</th>\n",
       "      <th>Parch</th>\n",
       "      <th>Fare</th>\n",
       "    </tr>\n",
       "  </thead>\n",
       "  <tbody>\n",
       "    <tr>\n",
       "      <th>count</th>\n",
       "      <td>891.000000</td>\n",
       "      <td>891.000000</td>\n",
       "      <td>891.000000</td>\n",
       "      <td>891.000000</td>\n",
       "      <td>891.000000</td>\n",
       "      <td>891.000000</td>\n",
       "      <td>891.000000</td>\n",
       "    </tr>\n",
       "    <tr>\n",
       "      <th>mean</th>\n",
       "      <td>446.000000</td>\n",
       "      <td>0.383838</td>\n",
       "      <td>2.308642</td>\n",
       "      <td>28.566970</td>\n",
       "      <td>0.523008</td>\n",
       "      <td>0.381594</td>\n",
       "      <td>32.204208</td>\n",
       "    </tr>\n",
       "    <tr>\n",
       "      <th>std</th>\n",
       "      <td>257.353842</td>\n",
       "      <td>0.486592</td>\n",
       "      <td>0.836071</td>\n",
       "      <td>13.199572</td>\n",
       "      <td>1.102743</td>\n",
       "      <td>0.806057</td>\n",
       "      <td>49.693429</td>\n",
       "    </tr>\n",
       "    <tr>\n",
       "      <th>min</th>\n",
       "      <td>1.000000</td>\n",
       "      <td>0.000000</td>\n",
       "      <td>1.000000</td>\n",
       "      <td>0.420000</td>\n",
       "      <td>0.000000</td>\n",
       "      <td>0.000000</td>\n",
       "      <td>0.000000</td>\n",
       "    </tr>\n",
       "    <tr>\n",
       "      <th>25%</th>\n",
       "      <td>223.500000</td>\n",
       "      <td>0.000000</td>\n",
       "      <td>2.000000</td>\n",
       "      <td>22.000000</td>\n",
       "      <td>0.000000</td>\n",
       "      <td>0.000000</td>\n",
       "      <td>7.910400</td>\n",
       "    </tr>\n",
       "    <tr>\n",
       "      <th>50%</th>\n",
       "      <td>446.000000</td>\n",
       "      <td>0.000000</td>\n",
       "      <td>3.000000</td>\n",
       "      <td>24.000000</td>\n",
       "      <td>0.000000</td>\n",
       "      <td>0.000000</td>\n",
       "      <td>14.454200</td>\n",
       "    </tr>\n",
       "    <tr>\n",
       "      <th>75%</th>\n",
       "      <td>668.500000</td>\n",
       "      <td>1.000000</td>\n",
       "      <td>3.000000</td>\n",
       "      <td>35.000000</td>\n",
       "      <td>1.000000</td>\n",
       "      <td>0.000000</td>\n",
       "      <td>31.000000</td>\n",
       "    </tr>\n",
       "    <tr>\n",
       "      <th>max</th>\n",
       "      <td>891.000000</td>\n",
       "      <td>1.000000</td>\n",
       "      <td>3.000000</td>\n",
       "      <td>80.000000</td>\n",
       "      <td>8.000000</td>\n",
       "      <td>6.000000</td>\n",
       "      <td>512.329200</td>\n",
       "    </tr>\n",
       "  </tbody>\n",
       "</table>\n",
       "</div>"
      ],
      "text/plain": [
       "       PassengerId    Survived      Pclass         Age       SibSp       Parch        Fare\n",
       "count   891.000000  891.000000  891.000000  891.000000  891.000000  891.000000  891.000000\n",
       "mean    446.000000    0.383838    2.308642   28.566970    0.523008    0.381594   32.204208\n",
       "std     257.353842    0.486592    0.836071   13.199572    1.102743    0.806057   49.693429\n",
       "min       1.000000    0.000000    1.000000    0.420000    0.000000    0.000000    0.000000\n",
       "25%     223.500000    0.000000    2.000000   22.000000    0.000000    0.000000    7.910400\n",
       "50%     446.000000    0.000000    3.000000   24.000000    0.000000    0.000000   14.454200\n",
       "75%     668.500000    1.000000    3.000000   35.000000    1.000000    0.000000   31.000000\n",
       "max     891.000000    1.000000    3.000000   80.000000    8.000000    6.000000  512.329200"
      ]
     },
     "execution_count": 8,
     "metadata": {},
     "output_type": "execute_result"
    }
   ],
   "source": [
    "import numpy as np\n",
    "\n",
    "df.describe(include=(np.number))"
   ]
  },
  {
   "cell_type": "markdown",
   "id": "474d5b79",
   "metadata": {
    "execution": {
     "iopub.execute_input": "2022-05-13T11:02:34.328433Z",
     "iopub.status.busy": "2022-05-13T11:02:34.327999Z",
     "iopub.status.idle": "2022-05-13T11:02:34.336993Z",
     "shell.execute_reply": "2022-05-13T11:02:34.335466Z",
     "shell.execute_reply.started": "2022-05-13T11:02:34.32838Z"
    },
    "hidden": true,
    "papermill": {
     "duration": 0.131413,
     "end_time": "2024-07-18T16:43:34.844338",
     "exception": false,
     "start_time": "2024-07-18T16:43:34.712925",
     "status": "completed"
    },
    "tags": []
   },
   "source": [
    "We can see that `Fare` contains mainly values of around `0` to `30`, but there's a few really big ones. This is very common with fields contain monetary values, and it can cause problems for our model, because once that column is multiplied by a coefficient later, the few rows with really big values will dominate the result.\n",
    "\n",
    "You can see the issue most clearly visually by looking at a histogram, which shows a long tail to the right (and don't forget: if you're not entirely sure what a histogram is, Google \"[histogram tutorial](https://www.google.com/search?q=histogram+tutorial&oq=histogram+tutorial)\" and do a bit of reading before continuing on):"
   ]
  },
  {
   "cell_type": "code",
   "execution_count": 9,
   "id": "10f9bc3c",
   "metadata": {
    "execution": {
     "iopub.execute_input": "2024-07-18T16:43:35.108610Z",
     "iopub.status.busy": "2024-07-18T16:43:35.108328Z",
     "iopub.status.idle": "2024-07-18T16:43:35.369413Z",
     "shell.execute_reply": "2024-07-18T16:43:35.368731Z"
    },
    "hidden": true,
    "papermill": {
     "duration": 0.396043,
     "end_time": "2024-07-18T16:43:35.371514",
     "exception": false,
     "start_time": "2024-07-18T16:43:34.975471",
     "status": "completed"
    },
    "tags": []
   },
   "outputs": [
    {
     "data": {
      "image/png": "[encoded data removed]",
      "text/plain": [
       "<Figure size 432x288 with 1 Axes>"
      ]
     },
     "metadata": {
      "needs_background": "light"
     },
     "output_type": "display_data"
    }
   ],
   "source": [
    "df['Fare'].hist();"
   ]
  },
  {
   "cell_type": "markdown",
   "id": "75dbac12",
   "metadata": {
    "execution": {
     "iopub.execute_input": "2022-05-13T11:02:34.328433Z",
     "iopub.status.busy": "2022-05-13T11:02:34.327999Z",
     "iopub.status.idle": "2022-05-13T11:02:34.336993Z",
     "shell.execute_reply": "2022-05-13T11:02:34.335466Z",
     "shell.execute_reply.started": "2022-05-13T11:02:34.32838Z"
    },
    "hidden": true,
    "papermill": {
     "duration": 0.148169,
     "end_time": "2024-07-18T16:43:35.654748",
     "exception": false,
     "start_time": "2024-07-18T16:43:35.506579",
     "status": "completed"
    },
    "tags": []
   },
   "source": [
    "To fix this, the most common approach is to take the logarithm, which squishes the big numbers and makes the distribution more reasonable. Note, however, that there are zeros in the `Fare` column, and `log(0)` is infinite -- to fix this, we'll simply add `1` to all values first:"
   ]
  },
  {
   "cell_type": "code",
   "execution_count": 10,
   "id": "116b221e",
   "metadata": {
    "execution": {
     "iopub.execute_input": "2024-07-18T16:43:35.924504Z",
     "iopub.status.busy": "2024-07-18T16:43:35.924230Z",
     "iopub.status.idle": "2024-07-18T16:43:35.929435Z",
     "shell.execute_reply": "2024-07-18T16:43:35.928686Z"
    },
    "hidden": true,
    "papermill": {
     "duration": 0.139825,
     "end_time": "2024-07-18T16:43:35.931252",
     "exception": false,
     "start_time": "2024-07-18T16:43:35.791427",
     "status": "completed"
    },
    "tags": []
   },
   "outputs": [],
   "source": [
    "df['LogFare'] = np.log(df['Fare']+1)"
   ]
  },
  {
   "cell_type": "markdown",
   "id": "a7bf48f8",
   "metadata": {
    "hidden": true,
    "papermill": {
     "duration": 0.131269,
     "end_time": "2024-07-18T16:43:36.194442",
     "exception": false,
     "start_time": "2024-07-18T16:43:36.063173",
     "status": "completed"
    },
    "tags": []
   },
   "source": [
    "The histogram now shows a more even distribution of values without the long tail:"
   ]
  },
  {
   "cell_type": "code",
   "execution_count": 11,
   "id": "7f2b2329",
   "metadata": {
    "execution": {
     "iopub.execute_input": "2024-07-18T16:43:36.460530Z",
     "iopub.status.busy": "2024-07-18T16:43:36.460246Z",
     "iopub.status.idle": "2024-07-18T16:43:36.686576Z",
     "shell.execute_reply": "2024-07-18T16:43:36.685828Z"
    },
    "hidden": true,
    "papermill": {
     "duration": 0.36151,
     "end_time": "2024-07-18T16:43:36.688566",
     "exception": false,
     "start_time": "2024-07-18T16:43:36.327056",
     "status": "completed"
    },
    "tags": []
   },
   "outputs": [
    {
     "data": {
      "image/png": "[encoded data removed]",
      "text/plain": [
       "<Figure size 432x288 with 1 Axes>"
      ]
     },
     "metadata": {
      "needs_background": "light"
     },
     "output_type": "display_data"
    }
   ],
   "source": [
    "df['LogFare'].hist();"
   ]
  },
  {
   "cell_type": "markdown",
   "id": "b1480b25",
   "metadata": {
    "hidden": true,
    "papermill": {
     "duration": 0.131754,
     "end_time": "2024-07-18T16:43:36.953737",
     "exception": false,
     "start_time": "2024-07-18T16:43:36.821983",
     "status": "completed"
    },
    "tags": []
   },
   "source": [
    "It looks from the `describe()` output like `Pclass` contains just 3 values, which we can confirm by looking at the [Data Dictionary](https://www.kaggle.com/competitions/titanic/data) (which you should always study carefully for any project!) -- "
   ]
  },
  {
   "cell_type": "code",
   "execution_count": 12,
   "id": "f9139702",
   "metadata": {
    "execution": {
     "iopub.execute_input": "2024-07-18T16:43:37.228111Z",
     "iopub.status.busy": "2024-07-18T16:43:37.227460Z",
     "iopub.status.idle": "2024-07-18T16:43:37.233490Z",
     "shell.execute_reply": "2024-07-18T16:43:37.232818Z"
    },
    "hidden": true,
    "papermill": {
     "duration": 0.14929,
     "end_time": "2024-07-18T16:43:37.235686",
     "exception": false,
     "start_time": "2024-07-18T16:43:37.086396",
     "status": "completed"
    },
    "tags": []
   },
   "outputs": [
    {
     "data": {
      "text/plain": [
       "[1, 2, 3]"
      ]
     },
     "execution_count": 12,
     "metadata": {},
     "output_type": "execute_result"
    }
   ],
   "source": [
    "pclasses = sorted(df.Pclass.unique())\n",
    "pclasses"
   ]
  },
  {
   "cell_type": "markdown",
   "id": "ee9c3b8b",
   "metadata": {
    "hidden": true,
    "papermill": {
     "duration": 0.133332,
     "end_time": "2024-07-18T16:43:37.510229",
     "exception": false,
     "start_time": "2024-07-18T16:43:37.376897",
     "status": "completed"
    },
    "tags": []
   },
   "source": [
    "Here's how we get a quick summary of all the non-numeric columns in the dataset:"
   ]
  },
  {
   "cell_type": "code",
   "execution_count": 13,
   "id": "f9d393e6",
   "metadata": {
    "execution": {
     "iopub.execute_input": "2024-07-18T16:43:37.780585Z",
     "iopub.status.busy": "2024-07-18T16:43:37.779973Z",
     "iopub.status.idle": "2024-07-18T16:43:37.799571Z",
     "shell.execute_reply": "2024-07-18T16:43:37.798906Z"
    },
    "hidden": true,
    "papermill": {
     "duration": 0.155513,
     "end_time": "2024-07-18T16:43:37.801415",
     "exception": false,
     "start_time": "2024-07-18T16:43:37.645902",
     "status": "completed"
    },
    "tags": []
   },
   "outputs": [
    {
     "data": {
      "text/html": [
       "<div>\n",
       "<style scoped>\n",
       "    .dataframe tbody tr th:only-of-type {\n",
       "        vertical-align: middle;\n",
       "    }\n",
       "\n",
       "    .dataframe tbody tr th {\n",
       "        vertical-align: top;\n",
       "    }\n",
       "\n",
       "    .dataframe thead th {\n",
       "        text-align: right;\n",
       "    }\n",
       "</style>\n",
       "<table border=\"1\" class=\"dataframe\">\n",
       "  <thead>\n",
       "    <tr style=\"text-align: right;\">\n",
       "      <th></th>\n",
       "      <th>Name</th>\n",
       "      <th>Sex</th>\n",
       "      <th>Ticket</th>\n",
       "      <th>Cabin</th>\n",
       "      <th>Embarked</th>\n",
       "    </tr>\n",
       "  </thead>\n",
       "  <tbody>\n",
       "    <tr>\n",
       "      <th>count</th>\n",
       "      <td>891</td>\n",
       "      <td>891</td>\n",
       "      <td>891</td>\n",
       "      <td>891</td>\n",
       "      <td>891</td>\n",
       "    </tr>\n",
       "    <tr>\n",
       "      <th>unique</th>\n",
       "      <td>891</td>\n",
       "      <td>2</td>\n",
       "      <td>681</td>\n",
       "      <td>147</td>\n",
       "      <td>3</td>\n",
       "    </tr>\n",
       "    <tr>\n",
       "      <th>top</th>\n",
       "      <td>Braund, Mr. Owen Harris</td>\n",
       "      <td>male</td>\n",
       "      <td>347082</td>\n",
       "      <td>B96 B98</td>\n",
       "      <td>S</td>\n",
       "    </tr>\n",
       "    <tr>\n",
       "      <th>freq</th>\n",
       "      <td>1</td>\n",
       "      <td>577</td>\n",
       "      <td>7</td>\n",
       "      <td>691</td>\n",
       "      <td>646</td>\n",
       "    </tr>\n",
       "  </tbody>\n",
       "</table>\n",
       "</div>"
      ],
      "text/plain": [
       "                           Name   Sex  Ticket    Cabin Embarked\n",
       "count                       891   891     891      891      891\n",
       "unique                      891     2     681      147        3\n",
       "top     Braund, Mr. Owen Harris  male  347082  B96 B98        S\n",
       "freq                          1   577       7      691      646"
      ]
     },
     "execution_count": 13,
     "metadata": {},
     "output_type": "execute_result"
    }
   ],
   "source": [
    "df.describe(include=[object])"
   ]
  },
  {
   "cell_type": "markdown",
   "id": "c1bcaf79",
   "metadata": {
    "hidden": true,
    "papermill": {
     "duration": 0.133481,
     "end_time": "2024-07-18T16:43:38.068573",
     "exception": false,
     "start_time": "2024-07-18T16:43:37.935092",
     "status": "completed"
    },
    "tags": []
   },
   "source": [
    "Clearly we can't multiply strings like `male` or `S` by coefficients, so we need to replace those with numbers.\n",
    "\n",
    "We do that by creating new columns containing *dummy variables*. A dummy variable is a column that contains a `1` where a particular column contains a particular value, or a `0` otherwise. For instance, we could create a dummy variable for `Sex='male'`, which would be a new column containing `1` for rows where `Sex` is `'male'`, and 0 for rows where it isn't.\n",
    "\n",
    "Pandas can create these automatically using `get_dummies`, which also remove the original columns. We'll create dummy variables for `Pclass`, even although it's numeric, since the numbers `1`, `2`, and `3` correspond to first, second, and third class cabins - not to counts or measures that make sense to multiply by. We'll also create dummies for `Sex` and `Embarked` since we'll want to use those as predictors in our model. On the other hand, `Cabin`, `Name`, and `Ticket` have too many unique values for it to make sense creating dummy variables for them."
   ]
  },
  {
   "cell_type": "code",
   "execution_count": 14,
   "id": "b4847262",
   "metadata": {
    "execution": {
     "iopub.execute_input": "2024-07-18T16:43:38.340126Z",
     "iopub.status.busy": "2024-07-18T16:43:38.339851Z",
     "iopub.status.idle": "2024-07-18T16:43:38.352379Z",
     "shell.execute_reply": "2024-07-18T16:43:38.351735Z"
    },
    "hidden": true,
    "papermill": {
     "duration": 0.15096,
     "end_time": "2024-07-18T16:43:38.354106",
     "exception": false,
     "start_time": "2024-07-18T16:43:38.203146",
     "status": "completed"
    },
    "tags": []
   },
   "outputs": [
    {
     "data": {
      "text/plain": [
       "Index(['PassengerId', 'Survived', 'Name', 'Age', 'SibSp', 'Parch', 'Ticket', 'Fare', 'Cabin', 'LogFare', 'Sex_female', 'Sex_male',\n",
       "       'Pclass_1', 'Pclass_2', 'Pclass_3', 'Embarked_C', 'Embarked_Q', 'Embarked_S'],\n",
       "      dtype='object')"
      ]
     },
     "execution_count": 14,
     "metadata": {},
     "output_type": "execute_result"
    }
   ],
   "source": [
    "df = pd.get_dummies(df, columns=[\"Sex\",\"Pclass\",\"Embarked\"])\n",
    "df.columns"
   ]
  },
  {
   "cell_type": "markdown",
   "id": "4595045c",
   "metadata": {
    "hidden": true,
    "papermill": {
     "duration": 0.136053,
     "end_time": "2024-07-18T16:43:38.624462",
     "exception": false,
     "start_time": "2024-07-18T16:43:38.488409",
     "status": "completed"
    },
    "tags": []
   },
   "source": [
    "We can see that 5 columns have been added to the end -- one for each of the possible values of each of the three columns we requested, and that those three requested columns have been removed.\n",
    "\n",
    "Here's what the first few rows of those newly added columns look like:"
   ]
  },
  {
   "cell_type": "code",
   "execution_count": 15,
   "id": "fdea8da1",
   "metadata": {
    "execution": {
     "iopub.execute_input": "2024-07-18T16:43:38.898795Z",
     "iopub.status.busy": "2024-07-18T16:43:38.898508Z",
     "iopub.status.idle": "2024-07-18T16:43:38.911295Z",
     "shell.execute_reply": "2024-07-18T16:43:38.910612Z"
    },
    "hidden": true,
    "papermill": {
     "duration": 0.153635,
     "end_time": "2024-07-18T16:43:38.913167",
     "exception": false,
     "start_time": "2024-07-18T16:43:38.759532",
     "status": "completed"
    },
    "tags": []
   },
   "outputs": [
    {
     "data": {
      "text/html": [
       "<div>\n",
       "<style scoped>\n",
       "    .dataframe tbody tr th:only-of-type {\n",
       "        vertical-align: middle;\n",
       "    }\n",
       "\n",
       "    .dataframe tbody tr th {\n",
       "        vertical-align: top;\n",
       "    }\n",
       "\n",
       "    .dataframe thead th {\n",
       "        text-align: right;\n",
       "    }\n",
       "</style>\n",
       "<table border=\"1\" class=\"dataframe\">\n",
       "  <thead>\n",
       "    <tr style=\"text-align: right;\">\n",
       "      <th></th>\n",
       "      <th>Sex_male</th>\n",
       "      <th>Sex_female</th>\n",
       "      <th>Pclass_1</th>\n",
       "      <th>Pclass_2</th>\n",
       "      <th>Pclass_3</th>\n",
       "      <th>Embarked_C</th>\n",
       "      <th>Embarked_Q</th>\n",
       "      <th>Embarked_S</th>\n",
       "    </tr>\n",
       "  </thead>\n",
       "  <tbody>\n",
       "    <tr>\n",
       "      <th>0</th>\n",
       "      <td>1</td>\n",
       "      <td>0</td>\n",
       "      <td>0</td>\n",
       "      <td>0</td>\n",
       "      <td>1</td>\n",
       "      <td>0</td>\n",
       "      <td>0</td>\n",
       "      <td>1</td>\n",
       "    </tr>\n",
       "    <tr>\n",
       "      <th>1</th>\n",
       "      <td>0</td>\n",
       "      <td>1</td>\n",
       "      <td>1</td>\n",
       "      <td>0</td>\n",
       "      <td>0</td>\n",
       "      <td>1</td>\n",
       "      <td>0</td>\n",
       "      <td>0</td>\n",
       "    </tr>\n",
       "    <tr>\n",
       "      <th>2</th>\n",
       "      <td>0</td>\n",
       "      <td>1</td>\n",
       "      <td>0</td>\n",
       "      <td>0</td>\n",
       "      <td>1</td>\n",
       "      <td>0</td>\n",
       "      <td>0</td>\n",
       "      <td>1</td>\n",
       "    </tr>\n",
       "    <tr>\n",
       "      <th>3</th>\n",
       "      <td>0</td>\n",
       "      <td>1</td>\n",
       "      <td>1</td>\n",
       "      <td>0</td>\n",
       "      <td>0</td>\n",
       "      <td>0</td>\n",
       "      <td>0</td>\n",
       "      <td>1</td>\n",
       "    </tr>\n",
       "    <tr>\n",
       "      <th>4</th>\n",
       "      <td>1</td>\n",
       "      <td>0</td>\n",
       "      <td>0</td>\n",
       "      <td>0</td>\n",
       "      <td>1</td>\n",
       "      <td>0</td>\n",
       "      <td>0</td>\n",
       "      <td>1</td>\n",
       "    </tr>\n",
       "  </tbody>\n",
       "</table>\n",
       "</div>"
      ],
      "text/plain": [
       "   Sex_male  Sex_female  Pclass_1  Pclass_2  Pclass_3  Embarked_C  Embarked_Q  Embarked_S\n",
       "0         1           0         0         0         1           0           0           1\n",
       "1         0           1         1         0         0           1           0           0\n",
       "2         0           1         0         0         1           0           0           1\n",
       "3         0           1         1         0         0           0           0           1\n",
       "4         1           0         0         0         1           0           0           1"
      ]
     },
     "execution_count": 15,
     "metadata": {},
     "output_type": "execute_result"
    }
   ],
   "source": [
    "added_cols = ['Sex_male', 'Sex_female', 'Pclass_1', 'Pclass_2', 'Pclass_3', 'Embarked_C', 'Embarked_Q', 'Embarked_S']\n",
    "df[added_cols].head()"
   ]
  },
  {
   "cell_type": "markdown",
   "id": "3568ffc7",
   "metadata": {
    "hidden": true,
    "papermill": {
     "duration": 0.134586,
     "end_time": "2024-07-18T16:43:39.182360",
     "exception": false,
     "start_time": "2024-07-18T16:43:39.047774",
     "status": "completed"
    },
    "tags": []
   },
   "source": [
    "Now we can create our independent (predictors) and dependent (target) variables. They both need to be PyTorch tensors. Our dependent variable is `Survived`:"
   ]
  },
  {
   "cell_type": "code",
   "execution_count": 16,
   "id": "76efcf77",
   "metadata": {
    "execution": {
     "iopub.execute_input": "2024-07-18T16:43:39.453663Z",
     "iopub.status.busy": "2024-07-18T16:43:39.452914Z",
     "iopub.status.idle": "2024-07-18T16:43:39.469230Z",
     "shell.execute_reply": "2024-07-18T16:43:39.468490Z"
    },
    "hidden": true,
    "papermill": {
     "duration": 0.154663,
     "end_time": "2024-07-18T16:43:39.471252",
     "exception": false,
     "start_time": "2024-07-18T16:43:39.316589",
     "status": "completed"
    },
    "tags": []
   },
   "outputs": [],
   "source": [
    "from torch import tensor\n",
    "\n",
    "t_dep = tensor(df.Survived)"
   ]
  },
  {
   "cell_type": "markdown",
   "id": "f0e5a81a",
   "metadata": {
    "hidden": true,
    "papermill": {
     "duration": 0.133733,
     "end_time": "2024-07-18T16:43:39.741554",
     "exception": false,
     "start_time": "2024-07-18T16:43:39.607821",
     "status": "completed"
    },
    "tags": []
   },
   "source": [
    "Our independent variables are all the continuous variables of interest plus all the dummy variables we just created:"
   ]
  },
  {
   "cell_type": "code",
   "execution_count": 17,
   "id": "f7d6f46a",
   "metadata": {
    "execution": {
     "iopub.execute_input": "2024-07-18T16:43:40.015265Z",
     "iopub.status.busy": "2024-07-18T16:43:40.014987Z",
     "iopub.status.idle": "2024-07-18T16:43:40.082192Z",
     "shell.execute_reply": "2024-07-18T16:43:40.081559Z"
    },
    "hidden": true,
    "papermill": {
     "duration": 0.208166,
     "end_time": "2024-07-18T16:43:40.083976",
     "exception": false,
     "start_time": "2024-07-18T16:43:39.875810",
     "status": "completed"
    },
    "tags": []
   },
   "outputs": [
    {
     "data": {
      "text/plain": [
       "tensor([[22.0000,  1.0000,  0.0000,  2.1102,  1.0000,  0.0000,  0.0000,  0.0000,  1.0000,  0.0000,  0.0000,  1.0000],\n",
       "        [38.0000,  1.0000,  0.0000,  4.2806,  0.0000,  1.0000,  1.0000,  0.0000,  0.0000,  1.0000,  0.0000,  0.0000],\n",
       "        [26.0000,  0.0000,  0.0000,  2.1889,  0.0000,  1.0000,  0.0000,  0.0000,  1.0000,  0.0000,  0.0000,  1.0000],\n",
       "        [35.0000,  1.0000,  0.0000,  3.9908,  0.0000,  1.0000,  1.0000,  0.0000,  0.0000,  0.0000,  0.0000,  1.0000],\n",
       "        [35.0000,  0.0000,  0.0000,  2.2028,  1.0000,  0.0000,  0.0000,  0.0000,  1.0000,  0.0000,  0.0000,  1.0000],\n",
       "        [24.0000,  0.0000,  0.0000,  2.2469,  1.0000,  0.0000,  0.0000,  0.0000,  1.0000,  0.0000,  1.0000,  0.0000],\n",
       "        [54.0000,  0.0000,  0.0000,  3.9677,  1.0000,  0.0000,  1.0000,  0.0000,  0.0000,  0.0000,  0.0000,  1.0000],\n",
       "        ...,\n",
       "        [25.0000,  0.0000,  0.0000,  2.0857,  1.0000,  0.0000,  0.0000,  0.0000,  1.0000,  0.0000,  0.0000,  1.0000],\n",
       "        [39.0000,  0.0000,  5.0000,  3.4054,  0.0000,  1.0000,  0.0000,  0.0000,  1.0000,  0.0000,  1.0000,  0.0000],\n",
       "        [27.0000,  0.0000,  0.0000,  2.6391,  1.0000,  0.0000,  0.0000,  1.0000,  0.0000,  0.0000,  0.0000,  1.0000],\n",
       "        [19.0000,  0.0000,  0.0000,  3.4340,  0.0000,  1.0000,  1.0000,  0.0000,  0.0000,  0.0000,  0.0000,  1.0000],\n",
       "        [24.0000,  1.0000,  2.0000,  3.1966,  0.0000,  1.0000,  0.0000,  0.0000,  1.0000,  0.0000,  0.0000,  1.0000],\n",
       "        [26.0000,  0.0000,  0.0000,  3.4340,  1.0000,  0.0000,  1.0000,  0.0000,  0.0000,  1.0000,  0.0000,  0.0000],\n",
       "        [32.0000,  0.0000,  0.0000,  2.1691,  1.0000,  0.0000,  0.0000,  0.0000,  1.0000,  0.0000,  1.0000,  0.0000]])"
      ]
     },
     "execution_count": 17,
     "metadata": {},
     "output_type": "execute_result"
    }
   ],
   "source": [
    "indep_cols = ['Age', 'SibSp', 'Parch', 'LogFare'] + added_cols\n",
    "\n",
    "t_indep = tensor(df[indep_cols].values, dtype=torch.float)\n",
    "t_indep"
   ]
  },
  {
   "cell_type": "markdown",
   "id": "1009dd51",
   "metadata": {
    "hidden": true,
    "papermill": {
     "duration": 0.135301,
     "end_time": "2024-07-18T16:43:40.354765",
     "exception": false,
     "start_time": "2024-07-18T16:43:40.219464",
     "status": "completed"
    },
    "tags": []
   },
   "source": [
    "Here's the number of rows and columns we have for our independent variables:"
   ]
  },
  {
   "cell_type": "code",
   "execution_count": 18,
   "id": "2e6ffd25",
   "metadata": {
    "execution": {
     "iopub.execute_input": "2024-07-18T16:43:40.628046Z",
     "iopub.status.busy": "2024-07-18T16:43:40.627450Z",
     "iopub.status.idle": "2024-07-18T16:43:40.632578Z",
     "shell.execute_reply": "2024-07-18T16:43:40.631910Z"
    },
    "hidden": true,
    "papermill": {
     "duration": 0.145052,
     "end_time": "2024-07-18T16:43:40.634464",
     "exception": false,
     "start_time": "2024-07-18T16:43:40.489412",
     "status": "completed"
    },
    "tags": []
   },
   "outputs": [
    {
     "data": {
      "text/plain": [
       "torch.Size([891, 12])"
      ]
     },
     "execution_count": 18,
     "metadata": {},
     "output_type": "execute_result"
    }
   ],
   "source": [
    "t_indep.shape"
   ]
  },
  {
   "cell_type": "markdown",
   "id": "047abc46",
   "metadata": {
    "papermill": {
     "duration": 0.13481,
     "end_time": "2024-07-18T16:43:40.905024",
     "exception": false,
     "start_time": "2024-07-18T16:43:40.770214",
     "status": "completed"
    },
    "tags": []
   },
   "source": [
    "## Setting up a linear model"
   ]
  },
  {
   "cell_type": "markdown",
   "id": "7d9c36dd",
   "metadata": {
    "papermill": {
     "duration": 0.134408,
     "end_time": "2024-07-18T16:43:41.174567",
     "exception": false,
     "start_time": "2024-07-18T16:43:41.040159",
     "status": "completed"
    },
    "tags": []
   },
   "source": [
    "Now that we've got a matrix of independent variables and a dependent variable vector, we can work on calculating our predictions and our loss. In this section, we're going to manually do a single step of calculating predictions and loss for every row of our data.\n",
    "\n",
    "Our first model will be a simple linear model. We'll need a coefficient for each column in `t_indep`. We'll pick random numbers in the range `(-0.5,0.5)`, and set our manual seed so that my explanations in the prose in this notebook will be consistent with what you see when you run it."
   ]
  },
  {
   "cell_type": "code",
   "execution_count": 19,
   "id": "3e3449b0",
   "metadata": {
    "execution": {
     "iopub.execute_input": "2024-07-18T16:43:41.448437Z",
     "iopub.status.busy": "2024-07-18T16:43:41.447738Z",
     "iopub.status.idle": "2024-07-18T16:43:41.463026Z",
     "shell.execute_reply": "2024-07-18T16:43:41.462280Z"
    },
    "papermill": {
     "duration": 0.153557,
     "end_time": "2024-07-18T16:43:41.464869",
     "exception": false,
     "start_time": "2024-07-18T16:43:41.311312",
     "status": "completed"
    },
    "tags": []
   },
   "outputs": [
    {
     "data": {
      "text/plain": [
       "tensor([-0.4629,  0.1386,  0.2409, -0.2262, -0.2632, -0.3147,  0.4876,  0.3136,  0.2799, -0.4392,  0.2103,  0.3625])"
      ]
     },
     "execution_count": 19,
     "metadata": {},
     "output_type": "execute_result"
    }
   ],
   "source": [
    "torch.manual_seed(442)\n",
    "\n",
    "n_coeff = t_indep.shape[1]\n",
    "coeffs = torch.rand(n_coeff)-0.5\n",
    "coeffs"
   ]
  },
  {
   "cell_type": "markdown",
   "id": "3fc27991",
   "metadata": {
    "papermill": {
     "duration": 0.13592,
     "end_time": "2024-07-18T16:43:41.738162",
     "exception": false,
     "start_time": "2024-07-18T16:43:41.602242",
     "status": "completed"
    },
    "tags": []
   },
   "source": [
    "Our predictions will be calculated by multiplying each row by the coefficients, and adding them up. One interesting point here is that we don't need a separate constant term (also known as a \"bias\" or \"intercept\" term), or a column of all `1`s to give the same effect has having a constant term. That's because our dummy variables already cover the entire dataset -- e.g. there's a column for \"male\" and a column for \"female\", and everyone in the dataset is in exactly one of these; therefore, we don't need a separate intercept term to cover rows that aren't otherwise part of a column.\n",
    "\n",
    "Here's what the multiplication looks like:"
   ]
  },
  {
   "cell_type": "code",
   "execution_count": 20,
   "id": "a86cff05",
   "metadata": {
    "execution": {
     "iopub.execute_input": "2024-07-18T16:43:42.032060Z",
     "iopub.status.busy": "2024-07-18T16:43:42.031785Z",
     "iopub.status.idle": "2024-07-18T16:43:42.038899Z",
     "shell.execute_reply": "2024-07-18T16:43:42.038209Z"
    },
    "papermill": {
     "duration": 0.153425,
     "end_time": "2024-07-18T16:43:42.040738",
     "exception": false,
     "start_time": "2024-07-18T16:43:41.887313",
     "status": "completed"
    },
    "tags": []
   },
   "outputs": [
    {
     "data": {
      "text/plain": [
       "tensor([[-10.1838,   0.1386,   0.0000,  -0.4772,  -0.2632,  -0.0000,   0.0000,   0.0000,   0.2799,  -0.0000,   0.0000,   0.3625],\n",
       "        [-17.5902,   0.1386,   0.0000,  -0.9681,  -0.0000,  -0.3147,   0.4876,   0.0000,   0.0000,  -0.4392,   0.0000,   0.0000],\n",
       "        [-12.0354,   0.0000,   0.0000,  -0.4950,  -0.0000,  -0.3147,   0.0000,   0.0000,   0.2799,  -0.0000,   0.0000,   0.3625],\n",
       "        [-16.2015,   0.1386,   0.0000,  -0.9025,  -0.0000,  -0.3147,   0.4876,   0.0000,   0.0000,  -0.0000,   0.0000,   0.3625],\n",
       "        [-16.2015,   0.0000,   0.0000,  -0.4982,  -0.2632,  -0.0000,   0.0000,   0.0000,   0.2799,  -0.0000,   0.0000,   0.3625],\n",
       "        [-11.1096,   0.0000,   0.0000,  -0.5081,  -0.2632,  -0.0000,   0.0000,   0.0000,   0.2799,  -0.0000,   0.2103,   0.0000],\n",
       "        [-24.9966,   0.0000,   0.0000,  -0.8973,  -0.2632,  -0.0000,   0.4876,   0.0000,   0.0000,  -0.0000,   0.0000,   0.3625],\n",
       "        ...,\n",
       "        [-11.5725,   0.0000,   0.0000,  -0.4717,  -0.2632,  -0.0000,   0.0000,   0.0000,   0.2799,  -0.0000,   0.0000,   0.3625],\n",
       "        [-18.0531,   0.0000,   1.2045,  -0.7701,  -0.0000,  -0.3147,   0.0000,   0.0000,   0.2799,  -0.0000,   0.2103,   0.0000],\n",
       "        [-12.4983,   0.0000,   0.0000,  -0.5968,  -0.2632,  -0.0000,   0.0000,   0.3136,   0.0000,  -0.0000,   0.0000,   0.3625],\n",
       "        [ -8.7951,   0.0000,   0.0000,  -0.7766,  -0.0000,  -0.3147,   0.4876,   0.0000,   0.0000,  -0.0000,   0.0000,   0.3625],\n",
       "        [-11.1096,   0.1386,   0.4818,  -0.7229,  -0.0000,  -0.3147,   0.0000,   0.0000,   0.2799,  -0.0000,   0.0000,   0.3625],\n",
       "        [-12.0354,   0.0000,   0.0000,  -0.7766,  -0.2632,  -0.0000,   0.4876,   0.0000,   0.0000,  -0.4392,   0.0000,   0.0000],\n",
       "        [-14.8128,   0.0000,   0.0000,  -0.4905,  -0.2632,  -0.0000,   0.0000,   0.0000,   0.2799,  -0.0000,   0.2103,   0.0000]])"
      ]
     },
     "execution_count": 20,
     "metadata": {},
     "output_type": "execute_result"
    }
   ],
   "source": [
    "t_indep*coeffs"
   ]
  },
  {
   "cell_type": "markdown",
   "id": "f4daafb4",
   "metadata": {
    "papermill": {
     "duration": 0.13586,
     "end_time": "2024-07-18T16:43:42.312579",
     "exception": false,
     "start_time": "2024-07-18T16:43:42.176719",
     "status": "completed"
    },
    "tags": []
   },
   "source": [
    "We can see we've got a problem here. The sums of each row will be dominated by the first column, which is `Age`, since that's bigger on average than all the others.\n",
    "\n",
    "Let's make all the columns contain numbers from `0` to `1`, by dividing each column by its `max()`:"
   ]
  },
  {
   "cell_type": "code",
   "execution_count": 21,
   "id": "4e7368d7",
   "metadata": {
    "execution": {
     "iopub.execute_input": "2024-07-18T16:43:42.588091Z",
     "iopub.status.busy": "2024-07-18T16:43:42.587821Z",
     "iopub.status.idle": "2024-07-18T16:43:42.593588Z",
     "shell.execute_reply": "2024-07-18T16:43:42.592938Z"
    },
    "papermill": {
     "duration": 0.146081,
     "end_time": "2024-07-18T16:43:42.595456",
     "exception": false,
     "start_time": "2024-07-18T16:43:42.449375",
     "status": "completed"
    },
    "tags": []
   },
   "outputs": [],
   "source": [
    "vals,indices = t_indep.max(dim=0)\n",
    "t_indep = t_indep / vals"
   ]
  },
  {
   "cell_type": "markdown",
   "id": "cfdac750",
   "metadata": {
    "papermill": {
     "duration": 0.135654,
     "end_time": "2024-07-18T16:43:42.868047",
     "exception": false,
     "start_time": "2024-07-18T16:43:42.732393",
     "status": "completed"
    },
    "tags": []
   },
   "source": [
    "As we see, that removes the problem of one column dominating all the others:"
   ]
  },
  {
   "cell_type": "code",
   "execution_count": 22,
   "id": "fe335bfe",
   "metadata": {
    "execution": {
     "iopub.execute_input": "2024-07-18T16:43:43.141613Z",
     "iopub.status.busy": "2024-07-18T16:43:43.141341Z",
     "iopub.status.idle": "2024-07-18T16:43:43.148159Z",
     "shell.execute_reply": "2024-07-18T16:43:43.147479Z"
    },
    "papermill": {
     "duration": 0.14563,
     "end_time": "2024-07-18T16:43:43.149857",
     "exception": false,
     "start_time": "2024-07-18T16:43:43.004227",
     "status": "completed"
    },
    "tags": []
   },
   "outputs": [
    {
     "data": {
      "text/plain": [
       "tensor([[-0.1273,  0.0173,  0.0000, -0.0765, -0.2632, -0.0000,  0.0000,  0.0000,  0.2799, -0.0000,  0.0000,  0.3625],\n",
       "        [-0.2199,  0.0173,  0.0000, -0.1551, -0.0000, -0.3147,  0.4876,  0.0000,  0.0000, -0.4392,  0.0000,  0.0000],\n",
       "        [-0.1504,  0.0000,  0.0000, -0.0793, -0.0000, -0.3147,  0.0000,  0.0000,  0.2799, -0.0000,  0.0000,  0.3625],\n",
       "        [-0.2025,  0.0173,  0.0000, -0.1446, -0.0000, -0.3147,  0.4876,  0.0000,  0.0000, -0.0000,  0.0000,  0.3625],\n",
       "        [-0.2025,  0.0000,  0.0000, -0.0798, -0.2632, -0.0000,  0.0000,  0.0000,  0.2799, -0.0000,  0.0000,  0.3625],\n",
       "        [-0.1389,  0.0000,  0.0000, -0.0814, -0.2632, -0.0000,  0.0000,  0.0000,  0.2799, -0.0000,  0.2103,  0.0000],\n",
       "        [-0.3125,  0.0000,  0.0000, -0.1438, -0.2632, -0.0000,  0.4876,  0.0000,  0.0000, -0.0000,  0.0000,  0.3625],\n",
       "        ...,\n",
       "        [-0.1447,  0.0000,  0.0000, -0.0756, -0.2632, -0.0000,  0.0000,  0.0000,  0.2799, -0.0000,  0.0000,  0.3625],\n",
       "        [-0.2257,  0.0000,  0.2008, -0.1234, -0.0000, -0.3147,  0.0000,  0.0000,  0.2799, -0.0000,  0.2103,  0.0000],\n",
       "        [-0.1562,  0.0000,  0.0000, -0.0956, -0.2632, -0.0000,  0.0000,  0.3136,  0.0000, -0.0000,  0.0000,  0.3625],\n",
       "        [-0.1099,  0.0000,  0.0000, -0.1244, -0.0000, -0.3147,  0.4876,  0.0000,  0.0000, -0.0000,  0.0000,  0.3625],\n",
       "        [-0.1389,  0.0173,  0.0803, -0.1158, -0.0000, -0.3147,  0.0000,  0.0000,  0.2799, -0.0000,  0.0000,  0.3625],\n",
       "        [-0.1504,  0.0000,  0.0000, -0.1244, -0.2632, -0.0000,  0.4876,  0.0000,  0.0000, -0.4392,  0.0000,  0.0000],\n",
       "        [-0.1852,  0.0000,  0.0000, -0.0786, -0.2632, -0.0000,  0.0000,  0.0000,  0.2799, -0.0000,  0.2103,  0.0000]])"
      ]
     },
     "execution_count": 22,
     "metadata": {},
     "output_type": "execute_result"
    }
   ],
   "source": [
    "t_indep*coeffs"
   ]
  },
  {
   "cell_type": "markdown",
   "id": "1f8cad06",
   "metadata": {
    "papermill": {
     "duration": 0.138034,
     "end_time": "2024-07-18T16:43:43.425102",
     "exception": false,
     "start_time": "2024-07-18T16:43:43.287068",
     "status": "completed"
    },
    "tags": []
   },
   "source": [
    "One thing you hopefully noticed is how amazingly cool this line of code is:\n",
    "\n",
    "    t_indep = t_indep / vals\n",
    "\n",
    "That is dividing a matrix by a vector -- what on earth does that mean?!? The trick here is that we're taking advantage of a technique in numpy and PyTorch (and many other languages, going all the way back to APL) called [broadcasting](https://numpy.org/doc/stable/user/basics.broadcasting.html). In short, this acts as if there's a separate copy of the vector for every row of the matrix, so it divides each row of the matrix by the vector. In practice, it doesn't actually make any copies, and does the whole thing in a highly optimized way, taking full advantage of modern CPUs (or, indeed, GPUs, if we're using them). Broadcasting is one of the most important techniques for making your code concise, maintainable, and fast, so it's well worth studying and practicing.\n",
    "\n",
    "We can now create predictions from our linear model, by adding up the rows of the product:"
   ]
  },
  {
   "cell_type": "code",
   "execution_count": 23,
   "id": "435bb888",
   "metadata": {
    "execution": {
     "iopub.execute_input": "2024-07-18T16:43:43.702097Z",
     "iopub.status.busy": "2024-07-18T16:43:43.701826Z",
     "iopub.status.idle": "2024-07-18T16:43:43.708416Z",
     "shell.execute_reply": "2024-07-18T16:43:43.707865Z"
    },
    "papermill": {
     "duration": 0.146782,
     "end_time": "2024-07-18T16:43:43.710131",
     "exception": false,
     "start_time": "2024-07-18T16:43:43.563349",
     "status": "completed"
    },
    "tags": []
   },
   "outputs": [],
   "source": [
    "preds = (t_indep*coeffs).sum(axis=1)"
   ]
  },
  {
   "cell_type": "markdown",
   "id": "318c1c8b",
   "metadata": {
    "papermill": {
     "duration": 0.136778,
     "end_time": "2024-07-18T16:43:43.983981",
     "exception": false,
     "start_time": "2024-07-18T16:43:43.847203",
     "status": "completed"
    },
    "tags": []
   },
   "source": [
    "Let's take a look at the first few:"
   ]
  },
  {
   "cell_type": "code",
   "execution_count": 24,
   "id": "2541e247",
   "metadata": {
    "execution": {
     "iopub.execute_input": "2024-07-18T16:43:44.258282Z",
     "iopub.status.busy": "2024-07-18T16:43:44.258011Z",
     "iopub.status.idle": "2024-07-18T16:43:44.265000Z",
     "shell.execute_reply": "2024-07-18T16:43:44.264350Z"
    },
    "papermill": {
     "duration": 0.146055,
     "end_time": "2024-07-18T16:43:44.266800",
     "exception": false,
     "start_time": "2024-07-18T16:43:44.120745",
     "status": "completed"
    },
    "tags": []
   },
   "outputs": [
    {
     "data": {
      "text/plain": [
       "tensor([ 0.1927, -0.6239,  0.0979,  0.2056,  0.0968,  0.0066,  0.1306,  0.3476,  0.1613, -0.6285])"
      ]
     },
     "execution_count": 24,
     "metadata": {},
     "output_type": "execute_result"
    }
   ],
   "source": [
    "preds[:10]"
   ]
  },
  {
   "cell_type": "markdown",
   "id": "3fecde6c",
   "metadata": {
    "papermill": {
     "duration": 0.136306,
     "end_time": "2024-07-18T16:43:44.540075",
     "exception": false,
     "start_time": "2024-07-18T16:43:44.403769",
     "status": "completed"
    },
    "tags": []
   },
   "source": [
    "Of course, these predictions aren't going to be any use, since our coefficients are random -- they're just a starting point for our gradient descent process.\n",
    "\n",
    "To do gradient descent, we need a loss function. Taking the average error of the rows (i.e. the absolute value of the difference between the prediction and the dependent) is generally a reasonable approach:"
   ]
  },
  {
   "cell_type": "code",
   "execution_count": 25,
   "id": "4e909846",
   "metadata": {
    "execution": {
     "iopub.execute_input": "2024-07-18T16:43:44.817580Z",
     "iopub.status.busy": "2024-07-18T16:43:44.817032Z",
     "iopub.status.idle": "2024-07-18T16:43:44.828229Z",
     "shell.execute_reply": "2024-07-18T16:43:44.827562Z"
    },
    "papermill": {
     "duration": 0.150829,
     "end_time": "2024-07-18T16:43:44.830004",
     "exception": false,
     "start_time": "2024-07-18T16:43:44.679175",
     "status": "completed"
    },
    "tags": []
   },
   "outputs": [
    {
     "data": {
      "text/plain": [
       "tensor(0.5382)"
      ]
     },
     "execution_count": 25,
     "metadata": {},
     "output_type": "execute_result"
    }
   ],
   "source": [
    "loss = torch.abs(preds-t_dep).mean()\n",
    "loss"
   ]
  },
  {
   "cell_type": "markdown",
   "id": "a4d164ad",
   "metadata": {
    "papermill": {
     "duration": 0.13709,
     "end_time": "2024-07-18T16:43:45.104260",
     "exception": false,
     "start_time": "2024-07-18T16:43:44.967170",
     "status": "completed"
    },
    "tags": []
   },
   "source": [
    "Now that we've tested out a way of calculating predictions, and loss, let's pop them into functions to make life easier:"
   ]
  },
  {
   "cell_type": "code",
   "execution_count": 26,
   "id": "a0b53843",
   "metadata": {
    "execution": {
     "iopub.execute_input": "2024-07-18T16:43:45.380386Z",
     "iopub.status.busy": "2024-07-18T16:43:45.380126Z",
     "iopub.status.idle": "2024-07-18T16:43:45.384936Z",
     "shell.execute_reply": "2024-07-18T16:43:45.384234Z"
    },
    "papermill": {
     "duration": 0.144686,
     "end_time": "2024-07-18T16:43:45.386753",
     "exception": false,
     "start_time": "2024-07-18T16:43:45.242067",
     "status": "completed"
    },
    "tags": []
   },
   "outputs": [],
   "source": [
    "def calc_preds(coeffs, indeps): return (indeps*coeffs).sum(axis=1)\n",
    "def calc_loss(coeffs, indeps, deps): return torch.abs(calc_preds(coeffs, indeps)-deps).mean()"
   ]
  },
  {
   "cell_type": "markdown",
   "id": "1228c006",
   "metadata": {
    "papermill": {
     "duration": 0.154174,
     "end_time": "2024-07-18T16:43:45.682320",
     "exception": false,
     "start_time": "2024-07-18T16:43:45.528146",
     "status": "completed"
    },
    "tags": []
   },
   "source": [
    "## Doing a gradient descent step"
   ]
  },
  {
   "cell_type": "markdown",
   "id": "d59bbb06",
   "metadata": {
    "papermill": {
     "duration": 0.136167,
     "end_time": "2024-07-18T16:43:45.956147",
     "exception": false,
     "start_time": "2024-07-18T16:43:45.819980",
     "status": "completed"
    },
    "tags": []
   },
   "source": [
    "In this section, we're going to do a single \"epoch\" of gradient descent manually. The only thing we're going to automate is calculating gradients, because let's face it that's pretty tedious and entirely pointless to do by hand! To get PyTorch to calculate gradients, we'll need to call `requires_grad_()` on our `coeffs` (if you're not sure why, review the previous notebook, [How does a neural net really work?](https://www.kaggle.com/code/jhoward/how-does-a-neural-net-really-work), before continuing):"
   ]
  },
  {
   "cell_type": "code",
   "execution_count": 27,
   "id": "c7507c5a",
   "metadata": {
    "execution": {
     "iopub.execute_input": "2024-07-18T16:43:46.244944Z",
     "iopub.status.busy": "2024-07-18T16:43:46.244354Z",
     "iopub.status.idle": "2024-07-18T16:43:46.250044Z",
     "shell.execute_reply": "2024-07-18T16:43:46.249356Z"
    },
    "papermill": {
     "duration": 0.159184,
     "end_time": "2024-07-18T16:43:46.251899",
     "exception": false,
     "start_time": "2024-07-18T16:43:46.092715",
     "status": "completed"
    },
    "tags": []
   },
   "outputs": [
    {
     "data": {
      "text/plain": [
       "tensor([-0.4629,  0.1386,  0.2409, -0.2262, -0.2632, -0.3147,  0.4876,  0.3136,  0.2799, -0.4392,  0.2103,  0.3625], requires_grad=True)"
      ]
     },
     "execution_count": 27,
     "metadata": {},
     "output_type": "execute_result"
    }
   ],
   "source": [
    "coeffs.requires_grad_()"
   ]
  },
  {
   "cell_type": "markdown",
   "id": "d3b5694c",
   "metadata": {
    "papermill": {
     "duration": 0.137548,
     "end_time": "2024-07-18T16:43:46.527052",
     "exception": false,
     "start_time": "2024-07-18T16:43:46.389504",
     "status": "completed"
    },
    "tags": []
   },
   "source": [
    "Now when we calculate our loss, PyTorch will keep track of all the steps, so we'll be able to get the gradients afterwards:"
   ]
  },
  {
   "cell_type": "code",
   "execution_count": 28,
   "id": "47b9abdc",
   "metadata": {
    "execution": {
     "iopub.execute_input": "2024-07-18T16:43:46.815014Z",
     "iopub.status.busy": "2024-07-18T16:43:46.814368Z",
     "iopub.status.idle": "2024-07-18T16:43:46.822229Z",
     "shell.execute_reply": "2024-07-18T16:43:46.821601Z"
    },
    "papermill": {
     "duration": 0.157682,
     "end_time": "2024-07-18T16:43:46.823977",
     "exception": false,
     "start_time": "2024-07-18T16:43:46.666295",
     "status": "completed"
    },
    "tags": []
   },
   "outputs": [
    {
     "data": {
      "text/plain": [
       "tensor(0.5382, grad_fn=<MeanBackward0>)"
      ]
     },
     "execution_count": 28,
     "metadata": {},
     "output_type": "execute_result"
    }
   ],
   "source": [
    "loss = calc_loss(coeffs, t_indep, t_dep)\n",
    "loss"
   ]
  },
  {
   "cell_type": "markdown",
   "id": "54056fd0",
   "metadata": {
    "papermill": {
     "duration": 0.13757,
     "end_time": "2024-07-18T16:43:47.099558",
     "exception": false,
     "start_time": "2024-07-18T16:43:46.961988",
     "status": "completed"
    },
    "tags": []
   },
   "source": [
    "Use `backward()` to ask PyTorch to calculate gradients now:"
   ]
  },
  {
   "cell_type": "code",
   "execution_count": 29,
   "id": "cdc3bd74",
   "metadata": {
    "execution": {
     "iopub.execute_input": "2024-07-18T16:43:47.379369Z",
     "iopub.status.busy": "2024-07-18T16:43:47.378563Z",
     "iopub.status.idle": "2024-07-18T16:43:47.468377Z",
     "shell.execute_reply": "2024-07-18T16:43:47.467740Z"
    },
    "papermill": {
     "duration": 0.232212,
     "end_time": "2024-07-18T16:43:47.470434",
     "exception": false,
     "start_time": "2024-07-18T16:43:47.238222",
     "status": "completed"
    },
    "tags": []
   },
   "outputs": [],
   "source": [
    "loss.backward()"
   ]
  },
  {
   "cell_type": "markdown",
   "id": "2ce1f9e4",
   "metadata": {
    "papermill": {
     "duration": 0.138,
     "end_time": "2024-07-18T16:43:47.748866",
     "exception": false,
     "start_time": "2024-07-18T16:43:47.610866",
     "status": "completed"
    },
    "tags": []
   },
   "source": [
    "Let's see what they look like:"
   ]
  },
  {
   "cell_type": "code",
   "execution_count": 30,
   "id": "c04d089d",
   "metadata": {
    "execution": {
     "iopub.execute_input": "2024-07-18T16:43:48.026330Z",
     "iopub.status.busy": "2024-07-18T16:43:48.025823Z",
     "iopub.status.idle": "2024-07-18T16:43:48.031677Z",
     "shell.execute_reply": "2024-07-18T16:43:48.030988Z"
    },
    "papermill": {
     "duration": 0.146892,
     "end_time": "2024-07-18T16:43:48.033461",
     "exception": false,
     "start_time": "2024-07-18T16:43:47.886569",
     "status": "completed"
    },
    "tags": []
   },
   "outputs": [
    {
     "data": {
      "text/plain": [
       "tensor([-0.0106,  0.0129, -0.0041, -0.0484,  0.2099, -0.2132, -0.1212, -0.0247,  0.1425, -0.1886, -0.0191,  0.2043])"
      ]
     },
     "execution_count": 30,
     "metadata": {},
     "output_type": "execute_result"
    }
   ],
   "source": [
    "coeffs.grad"
   ]
  },
  {
   "cell_type": "markdown",
   "id": "3bf83c0b",
   "metadata": {
    "papermill": {
     "duration": 0.13855,
     "end_time": "2024-07-18T16:43:48.310677",
     "exception": false,
     "start_time": "2024-07-18T16:43:48.172127",
     "status": "completed"
    },
    "tags": []
   },
   "source": [
    "Note that each time we call `backward`, the gradients are actually *added* to whatever is in the `.grad` attribute. Let's try running the above steps again:"
   ]
  },
  {
   "cell_type": "code",
   "execution_count": 31,
   "id": "3b65e008",
   "metadata": {
    "execution": {
     "iopub.execute_input": "2024-07-18T16:43:48.593063Z",
     "iopub.status.busy": "2024-07-18T16:43:48.592303Z",
     "iopub.status.idle": "2024-07-18T16:43:48.601589Z",
     "shell.execute_reply": "2024-07-18T16:43:48.600939Z"
    },
    "papermill": {
     "duration": 0.152998,
     "end_time": "2024-07-18T16:43:48.603436",
     "exception": false,
     "start_time": "2024-07-18T16:43:48.450438",
     "status": "completed"
    },
    "tags": []
   },
   "outputs": [
    {
     "data": {
      "text/plain": [
       "tensor([-0.0212,  0.0258, -0.0082, -0.0969,  0.4198, -0.4265, -0.2424, -0.0494,  0.2851, -0.3771, -0.0382,  0.4085])"
      ]
     },
     "execution_count": 31,
     "metadata": {},
     "output_type": "execute_result"
    }
   ],
   "source": [
    "loss = calc_loss(coeffs, t_indep, t_dep)\n",
    "loss.backward()\n",
    "coeffs.grad"
   ]
  },
  {
   "cell_type": "markdown",
   "id": "0d7e020d",
   "metadata": {
    "papermill": {
     "duration": 0.139664,
     "end_time": "2024-07-18T16:43:48.882797",
     "exception": false,
     "start_time": "2024-07-18T16:43:48.743133",
     "status": "completed"
    },
    "tags": []
   },
   "source": [
    "As you see, our `.grad` values are have doubled. That's because it added the gradients a second time. For this reason, after we use the gradients to do a gradient descent step, we need to set them back to zero.\n",
    "\n",
    "We can now do one gradient descent step, and check that our loss decreases:"
   ]
  },
  {
   "cell_type": "code",
   "execution_count": 32,
   "id": "bafb9c8a",
   "metadata": {
    "execution": {
     "iopub.execute_input": "2024-07-18T16:43:49.162799Z",
     "iopub.status.busy": "2024-07-18T16:43:49.162479Z",
     "iopub.status.idle": "2024-07-18T16:43:49.169610Z",
     "shell.execute_reply": "2024-07-18T16:43:49.168661Z"
    },
    "papermill": {
     "duration": 0.149545,
     "end_time": "2024-07-18T16:43:49.171897",
     "exception": false,
     "start_time": "2024-07-18T16:43:49.022352",
     "status": "completed"
    },
    "tags": []
   },
   "outputs": [
    {
     "name": "stdout",
     "output_type": "stream",
     "text": [
      "tensor(0.4945)\n"
     ]
    }
   ],
   "source": [
    "loss = calc_loss(coeffs, t_indep, t_dep)\n",
    "loss.backward()\n",
    "with torch.no_grad():\n",
    "    coeffs.sub_(coeffs.grad * 0.1)\n",
    "    coeffs.grad.zero_()\n",
    "    print(calc_loss(coeffs, t_indep, t_dep))"
   ]
  },
  {
   "cell_type": "markdown",
   "id": "d8dfd63e",
   "metadata": {
    "papermill": {
     "duration": 0.141099,
     "end_time": "2024-07-18T16:43:49.453021",
     "exception": false,
     "start_time": "2024-07-18T16:43:49.311922",
     "status": "completed"
    },
    "tags": []
   },
   "source": [
    "Note that `a.sub_(b)` subtracts `b` from `a` in-place. In PyTorch, any method that ends in `_` changes its object in-place. Similarly, `a.zero_()` sets all elements of a tensor to zero."
   ]
  },
  {
   "cell_type": "markdown",
   "id": "037943a3",
   "metadata": {
    "papermill": {
     "duration": 0.140554,
     "end_time": "2024-07-18T16:43:49.734160",
     "exception": false,
     "start_time": "2024-07-18T16:43:49.593606",
     "status": "completed"
    },
    "tags": []
   },
   "source": [
    "## Training the linear model"
   ]
  },
  {
   "cell_type": "markdown",
   "id": "ce2934c2",
   "metadata": {
    "papermill": {
     "duration": 0.139641,
     "end_time": "2024-07-18T16:43:50.015528",
     "exception": false,
     "start_time": "2024-07-18T16:43:49.875887",
     "status": "completed"
    },
    "tags": []
   },
   "source": [
    "Before we begin training our model, we'll need to ensure that we hold out a validation set for calculating our metrics (for details on this, see \"[Getting started with NLP for absolute beginners](https://www.kaggle.com/code/jhoward/getting-started-with-nlp-for-absolute-beginners#Test-and-validation-sets)\".\n",
    "\n",
    "There's lots of different ways we can do this. In the next notebook we'll be comparing our approach here to what the fastai library does, so we'll want to ensure we split the data in the same way. So let's use `RandomSplitter` to get indices that will split our data into training and validation sets:"
   ]
  },
  {
   "cell_type": "code",
   "execution_count": 33,
   "id": "2b3e6d36",
   "metadata": {
    "execution": {
     "iopub.execute_input": "2024-07-18T16:43:50.296131Z",
     "iopub.status.busy": "2024-07-18T16:43:50.295856Z",
     "iopub.status.idle": "2024-07-18T16:43:51.453847Z",
     "shell.execute_reply": "2024-07-18T16:43:51.453195Z"
    },
    "papermill": {
     "duration": 1.301517,
     "end_time": "2024-07-18T16:43:51.456003",
     "exception": false,
     "start_time": "2024-07-18T16:43:50.154486",
     "status": "completed"
    },
    "tags": []
   },
   "outputs": [],
   "source": [
    "from fastai.data.transforms import RandomSplitter\n",
    "trn_split,val_split=RandomSplitter(seed=42)(df)"
   ]
  },
  {
   "cell_type": "markdown",
   "id": "028e74f1",
   "metadata": {
    "papermill": {
     "duration": 0.140952,
     "end_time": "2024-07-18T16:43:51.738831",
     "exception": false,
     "start_time": "2024-07-18T16:43:51.597879",
     "status": "completed"
    },
    "tags": []
   },
   "source": [
    "Now we can apply those indicies to our independent and dependent variables:"
   ]
  },
  {
   "cell_type": "code",
   "execution_count": 34,
   "id": "b7f68658",
   "metadata": {
    "execution": {
     "iopub.execute_input": "2024-07-18T16:43:52.018828Z",
     "iopub.status.busy": "2024-07-18T16:43:52.018534Z",
     "iopub.status.idle": "2024-07-18T16:43:52.031333Z",
     "shell.execute_reply": "2024-07-18T16:43:52.030667Z"
    },
    "papermill": {
     "duration": 0.155207,
     "end_time": "2024-07-18T16:43:52.033153",
     "exception": false,
     "start_time": "2024-07-18T16:43:51.877946",
     "status": "completed"
    },
    "tags": []
   },
   "outputs": [
    {
     "data": {
      "text/plain": [
       "(713, 178)"
      ]
     },
     "execution_count": 34,
     "metadata": {},
     "output_type": "execute_result"
    }
   ],
   "source": [
    "trn_indep,val_indep = t_indep[trn_split],t_indep[val_split]\n",
    "trn_dep,val_dep = t_dep[trn_split],t_dep[val_split]\n",
    "len(trn_indep),len(val_indep)"
   ]
  },
  {
   "cell_type": "markdown",
   "id": "a7d639b1",
   "metadata": {
    "papermill": {
     "duration": 0.141101,
     "end_time": "2024-07-18T16:43:52.313996",
     "exception": false,
     "start_time": "2024-07-18T16:43:52.172895",
     "status": "completed"
    },
    "tags": []
   },
   "source": [
    "We'll create functions for the three things we did manually above: updating `coeffs`, doing one full gradient descent step, and initilising `coeffs` to random numbers:"
   ]
  },
  {
   "cell_type": "code",
   "execution_count": 35,
   "id": "219d178b",
   "metadata": {
    "execution": {
     "iopub.execute_input": "2024-07-18T16:43:52.597109Z",
     "iopub.status.busy": "2024-07-18T16:43:52.596828Z",
     "iopub.status.idle": "2024-07-18T16:43:52.600855Z",
     "shell.execute_reply": "2024-07-18T16:43:52.600169Z"
    },
    "papermill": {
     "duration": 0.147957,
     "end_time": "2024-07-18T16:43:52.602610",
     "exception": false,
     "start_time": "2024-07-18T16:43:52.454653",
     "status": "completed"
    },
    "tags": []
   },
   "outputs": [],
   "source": [
    "def update_coeffs(coeffs, lr):\n",
    "    coeffs.sub_(coeffs.grad * lr)\n",
    "    coeffs.grad.zero_()"
   ]
  },
  {
   "cell_type": "code",
   "execution_count": 36,
   "id": "1c1b01c7",
   "metadata": {
    "execution": {
     "iopub.execute_input": "2024-07-18T16:43:52.883176Z",
     "iopub.status.busy": "2024-07-18T16:43:52.882931Z",
     "iopub.status.idle": "2024-07-18T16:43:52.887432Z",
     "shell.execute_reply": "2024-07-18T16:43:52.886813Z"
    },
    "papermill": {
     "duration": 0.146057,
     "end_time": "2024-07-18T16:43:52.889141",
     "exception": false,
     "start_time": "2024-07-18T16:43:52.743084",
     "status": "completed"
    },
    "tags": []
   },
   "outputs": [],
   "source": [
    "def one_epoch(coeffs, lr):\n",
    "    loss = calc_loss(coeffs, trn_indep, trn_dep)\n",
    "    loss.backward()\n",
    "    with torch.no_grad(): update_coeffs(coeffs, lr)\n",
    "    print(f\"{loss:.3f}\", end=\"; \")"
   ]
  },
  {
   "cell_type": "code",
   "execution_count": 37,
   "id": "20d1dece",
   "metadata": {
    "execution": {
     "iopub.execute_input": "2024-07-18T16:43:53.169500Z",
     "iopub.status.busy": "2024-07-18T16:43:53.169244Z",
     "iopub.status.idle": "2024-07-18T16:43:53.173202Z",
     "shell.execute_reply": "2024-07-18T16:43:53.172462Z"
    },
    "papermill": {
     "duration": 0.146653,
     "end_time": "2024-07-18T16:43:53.175046",
     "exception": false,
     "start_time": "2024-07-18T16:43:53.028393",
     "status": "completed"
    },
    "tags": []
   },
   "outputs": [],
   "source": [
    "def init_coeffs(): return (torch.rand(n_coeff)-0.5).requires_grad_()"
   ]
  },
  {
   "cell_type": "markdown",
   "id": "9f68b177",
   "metadata": {
    "papermill": {
     "duration": 0.139925,
     "end_time": "2024-07-18T16:43:53.454559",
     "exception": false,
     "start_time": "2024-07-18T16:43:53.314634",
     "status": "completed"
    },
    "tags": []
   },
   "source": [
    "We can now use these functions to train our model:"
   ]
  },
  {
   "cell_type": "code",
   "execution_count": 38,
   "id": "4271acbf",
   "metadata": {
    "execution": {
     "iopub.execute_input": "2024-07-18T16:43:53.739073Z",
     "iopub.status.busy": "2024-07-18T16:43:53.738806Z",
     "iopub.status.idle": "2024-07-18T16:43:53.743366Z",
     "shell.execute_reply": "2024-07-18T16:43:53.742736Z"
    },
    "papermill": {
     "duration": 0.148831,
     "end_time": "2024-07-18T16:43:53.745070",
     "exception": false,
     "start_time": "2024-07-18T16:43:53.596239",
     "status": "completed"
    },
    "tags": []
   },
   "outputs": [],
   "source": [
    "def train_model(epochs=30, lr=0.01):\n",
    "    torch.manual_seed(442)\n",
    "    coeffs = init_coeffs()\n",
    "    for i in range(epochs): one_epoch(coeffs, lr=lr)\n",
    "    return coeffs"
   ]
  },
  {
   "cell_type": "markdown",
   "id": "a138fc9c",
   "metadata": {
    "papermill": {
     "duration": 0.139895,
     "end_time": "2024-07-18T16:43:54.024887",
     "exception": false,
     "start_time": "2024-07-18T16:43:53.884992",
     "status": "completed"
    },
    "tags": []
   },
   "source": [
    "Let's try it. Our loss will print at the end of every step, so we hope we'll see it going down:"
   ]
  },
  {
   "cell_type": "code",
   "execution_count": 39,
   "id": "ca4e69be",
   "metadata": {
    "execution": {
     "iopub.execute_input": "2024-07-18T16:43:54.305030Z",
     "iopub.status.busy": "2024-07-18T16:43:54.304760Z",
     "iopub.status.idle": "2024-07-18T16:43:54.316419Z",
     "shell.execute_reply": "2024-07-18T16:43:54.315590Z"
    },
    "papermill": {
     "duration": 0.154498,
     "end_time": "2024-07-18T16:43:54.318286",
     "exception": false,
     "start_time": "2024-07-18T16:43:54.163788",
     "status": "completed"
    },
    "tags": []
   },
   "outputs": [
    {
     "name": "stdout",
     "output_type": "stream",
     "text": [
      "0.536; 0.502; 0.477; 0.454; 0.431; 0.409; 0.388; 0.367; 0.349; 0.336; 0.330; 0.326; 0.329; 0.304; 0.314; 0.296; 0.300; 0.289; "
     ]
    }
   ],
   "source": [
    "coeffs = train_model(18, lr=0.2)"
   ]
  },
  {
   "cell_type": "markdown",
   "id": "8d138705",
   "metadata": {
    "papermill": {
     "duration": 0.140842,
     "end_time": "2024-07-18T16:43:54.599638",
     "exception": false,
     "start_time": "2024-07-18T16:43:54.458796",
     "status": "completed"
    },
    "tags": []
   },
   "source": [
    "It does!\n",
    "\n",
    "Let's take a look at the coefficients for each column:"
   ]
  },
  {
   "cell_type": "code",
   "execution_count": 40,
   "id": "e2a2d91e",
   "metadata": {
    "execution": {
     "iopub.execute_input": "2024-07-18T16:43:54.906475Z",
     "iopub.status.busy": "2024-07-18T16:43:54.905645Z",
     "iopub.status.idle": "2024-07-18T16:43:54.917117Z",
     "shell.execute_reply": "2024-07-18T16:43:54.916365Z"
    },
    "papermill": {
     "duration": 0.177812,
     "end_time": "2024-07-18T16:43:54.918980",
     "exception": false,
     "start_time": "2024-07-18T16:43:54.741168",
     "status": "completed"
    },
    "tags": []
   },
   "outputs": [
    {
     "data": {
      "text/plain": [
       "{'Age': tensor(-0.2694),\n",
       " 'SibSp': tensor(0.0901),\n",
       " 'Parch': tensor(0.2359),\n",
       " 'LogFare': tensor(0.0280),\n",
       " 'Sex_male': tensor(-0.3990),\n",
       " 'Sex_female': tensor(0.2345),\n",
       " 'Pclass_1': tensor(0.7232),\n",
       " 'Pclass_2': tensor(0.4112),\n",
       " 'Pclass_3': tensor(0.3601),\n",
       " 'Embarked_C': tensor(0.0955),\n",
       " 'Embarked_Q': tensor(0.2395),\n",
       " 'Embarked_S': tensor(0.2122)}"
      ]
     },
     "execution_count": 40,
     "metadata": {},
     "output_type": "execute_result"
    }
   ],
   "source": [
    "def show_coeffs(): return dict(zip(indep_cols, coeffs.requires_grad_(False)))\n",
    "show_coeffs()"
   ]
  },
  {
   "cell_type": "markdown",
   "id": "157ec8d2",
   "metadata": {
    "papermill": {
     "duration": 0.151737,
     "end_time": "2024-07-18T16:43:55.220523",
     "exception": false,
     "start_time": "2024-07-18T16:43:55.068786",
     "status": "completed"
    },
    "tags": []
   },
   "source": [
    "## Measuring accuracy"
   ]
  },
  {
   "cell_type": "markdown",
   "id": "2ad9594b",
   "metadata": {
    "papermill": {
     "duration": 0.152071,
     "end_time": "2024-07-18T16:43:55.518975",
     "exception": false,
     "start_time": "2024-07-18T16:43:55.366904",
     "status": "completed"
    },
    "tags": []
   },
   "source": [
    "The Kaggle competition is not, however, scored by absolute error (which is our loss function). It's scored by *accuracy* -- the proportion of rows where we correctly predict survival. Let's see how accurate we were on the validation set. First, calculate the predictions:"
   ]
  },
  {
   "cell_type": "code",
   "execution_count": 41,
   "id": "8b61ec22",
   "metadata": {
    "execution": {
     "iopub.execute_input": "2024-07-18T16:43:55.832596Z",
     "iopub.status.busy": "2024-07-18T16:43:55.832260Z",
     "iopub.status.idle": "2024-07-18T16:43:55.836913Z",
     "shell.execute_reply": "2024-07-18T16:43:55.836185Z"
    },
    "papermill": {
     "duration": 0.15209,
     "end_time": "2024-07-18T16:43:55.838693",
     "exception": false,
     "start_time": "2024-07-18T16:43:55.686603",
     "status": "completed"
    },
    "tags": []
   },
   "outputs": [],
   "source": [
    "preds = calc_preds(coeffs, val_indep)"
   ]
  },
  {
   "cell_type": "markdown",
   "id": "f17fe715",
   "metadata": {
    "papermill": {
     "duration": 0.140839,
     "end_time": "2024-07-18T16:43:56.170290",
     "exception": false,
     "start_time": "2024-07-18T16:43:56.029451",
     "status": "completed"
    },
    "tags": []
   },
   "source": [
    "We'll assume that any passenger with a score of over `0.5` is predicted to survive. So that means we're correct for each row where `preds>0.5` is the same as the dependent variable:"
   ]
  },
  {
   "cell_type": "code",
   "execution_count": 42,
   "id": "30d63c71",
   "metadata": {
    "execution": {
     "iopub.execute_input": "2024-07-18T16:43:56.453820Z",
     "iopub.status.busy": "2024-07-18T16:43:56.453110Z",
     "iopub.status.idle": "2024-07-18T16:43:56.459147Z",
     "shell.execute_reply": "2024-07-18T16:43:56.458463Z"
    },
    "papermill": {
     "duration": 0.149585,
     "end_time": "2024-07-18T16:43:56.460940",
     "exception": false,
     "start_time": "2024-07-18T16:43:56.311355",
     "status": "completed"
    },
    "tags": []
   },
   "outputs": [
    {
     "data": {
      "text/plain": [
       "tensor([ True,  True,  True,  True,  True,  True,  True,  True,  True,  True, False, False, False,  True,  True, False])"
      ]
     },
     "execution_count": 42,
     "metadata": {},
     "output_type": "execute_result"
    }
   ],
   "source": [
    "results = val_dep.bool()==(preds>0.5)\n",
    "results[:16]"
   ]
  },
  {
   "cell_type": "markdown",
   "id": "b5be2f48",
   "metadata": {
    "papermill": {
     "duration": 0.141464,
     "end_time": "2024-07-18T16:43:56.744674",
     "exception": false,
     "start_time": "2024-07-18T16:43:56.603210",
     "status": "completed"
    },
    "tags": []
   },
   "source": [
    "Let's see what our average accuracy is:"
   ]
  },
  {
   "cell_type": "code",
   "execution_count": 43,
   "id": "b74760dc",
   "metadata": {
    "execution": {
     "iopub.execute_input": "2024-07-18T16:43:57.029060Z",
     "iopub.status.busy": "2024-07-18T16:43:57.028270Z",
     "iopub.status.idle": "2024-07-18T16:43:57.034472Z",
     "shell.execute_reply": "2024-07-18T16:43:57.033843Z"
    },
    "papermill": {
     "duration": 0.149896,
     "end_time": "2024-07-18T16:43:57.036279",
     "exception": false,
     "start_time": "2024-07-18T16:43:56.886383",
     "status": "completed"
    },
    "tags": []
   },
   "outputs": [
    {
     "data": {
      "text/plain": [
       "tensor(0.7865)"
      ]
     },
     "execution_count": 43,
     "metadata": {},
     "output_type": "execute_result"
    }
   ],
   "source": [
    "results.float().mean()"
   ]
  },
  {
   "cell_type": "markdown",
   "id": "f320ecea",
   "metadata": {
    "papermill": {
     "duration": 0.140814,
     "end_time": "2024-07-18T16:43:57.318345",
     "exception": false,
     "start_time": "2024-07-18T16:43:57.177531",
     "status": "completed"
    },
    "tags": []
   },
   "source": [
    "That's not a bad start at all! We'll create a function so we can calcuate the accuracy easy for other models we train:"
   ]
  },
  {
   "cell_type": "code",
   "execution_count": 44,
   "id": "c90f9974",
   "metadata": {
    "execution": {
     "iopub.execute_input": "2024-07-18T16:43:57.604372Z",
     "iopub.status.busy": "2024-07-18T16:43:57.603815Z",
     "iopub.status.idle": "2024-07-18T16:43:57.611097Z",
     "shell.execute_reply": "2024-07-18T16:43:57.610377Z"
    },
    "papermill": {
     "duration": 0.152708,
     "end_time": "2024-07-18T16:43:57.612908",
     "exception": false,
     "start_time": "2024-07-18T16:43:57.460200",
     "status": "completed"
    },
    "tags": []
   },
   "outputs": [
    {
     "data": {
      "text/plain": [
       "tensor(0.7865)"
      ]
     },
     "execution_count": 44,
     "metadata": {},
     "output_type": "execute_result"
    }
   ],
   "source": [
    "def acc(coeffs): return (val_dep.bool()==(calc_preds(coeffs, val_indep)>0.5)).float().mean()\n",
    "acc(coeffs)"
   ]
  },
  {
   "cell_type": "markdown",
   "id": "fe9d6b50",
   "metadata": {
    "papermill": {
     "duration": 0.141382,
     "end_time": "2024-07-18T16:43:57.897185",
     "exception": false,
     "start_time": "2024-07-18T16:43:57.755803",
     "status": "completed"
    },
    "tags": []
   },
   "source": [
    "## Using sigmoid"
   ]
  },
  {
   "cell_type": "markdown",
   "id": "807654af",
   "metadata": {
    "papermill": {
     "duration": 0.14155,
     "end_time": "2024-07-18T16:43:58.180984",
     "exception": false,
     "start_time": "2024-07-18T16:43:58.039434",
     "status": "completed"
    },
    "tags": []
   },
   "source": [
    "Looking at our predictions, there's one obvious problem -- some of our predictions of the probability of survival are `>1`, and some are `<0`:"
   ]
  },
  {
   "cell_type": "code",
   "execution_count": 45,
   "id": "ea219684",
   "metadata": {
    "execution": {
     "iopub.execute_input": "2024-07-18T16:43:58.467866Z",
     "iopub.status.busy": "2024-07-18T16:43:58.467229Z",
     "iopub.status.idle": "2024-07-18T16:43:58.473596Z",
     "shell.execute_reply": "2024-07-18T16:43:58.472905Z"
    },
    "papermill": {
     "duration": 0.152344,
     "end_time": "2024-07-18T16:43:58.475598",
     "exception": false,
     "start_time": "2024-07-18T16:43:58.323254",
     "status": "completed"
    },
    "tags": []
   },
   "outputs": [
    {
     "data": {
      "text/plain": [
       "tensor([ 0.8160,  0.1295, -0.0148,  0.1831,  0.1520,  0.1350,  0.7279,  0.7754,  0.3222,  0.6740,  0.0753,  0.0389,  0.2216,  0.7631,\n",
       "         0.0678,  0.3997,  0.3324,  0.8278,  0.1078,  0.7126,  0.1023,  0.3627,  0.9937,  0.8050,  0.1153,  0.1455,  0.8652,  0.3425])"
      ]
     },
     "execution_count": 45,
     "metadata": {},
     "output_type": "execute_result"
    }
   ],
   "source": [
    "preds[:28]"
   ]
  },
  {
   "cell_type": "markdown",
   "id": "2d0703c2",
   "metadata": {
    "papermill": {
     "duration": 0.143758,
     "end_time": "2024-07-18T16:43:58.764880",
     "exception": false,
     "start_time": "2024-07-18T16:43:58.621122",
     "status": "completed"
    },
    "tags": []
   },
   "source": [
    "To fix this, we should pass every prediction through the *sigmoid function*, which has a minimum at zero and maximum at one, and is defined as follows:"
   ]
  },
  {
   "cell_type": "code",
   "execution_count": 46,
   "id": "d4c48db2",
   "metadata": {
    "execution": {
     "iopub.execute_input": "2024-07-18T16:43:59.051282Z",
     "iopub.status.busy": "2024-07-18T16:43:59.051030Z",
     "iopub.status.idle": "2024-07-18T16:44:00.104997Z",
     "shell.execute_reply": "2024-07-18T16:44:00.104283Z"
    },
    "papermill": {
     "duration": 1.199269,
     "end_time": "2024-07-18T16:44:00.107062",
     "exception": false,
     "start_time": "2024-07-18T16:43:58.907793",
     "status": "completed"
    },
    "tags": []
   },
   "outputs": [
    {
     "data": {
      "image/png": "[encoded data removed]",
      "text/plain": [
       "<Figure size 432x288 with 1 Axes>"
      ]
     },
     "metadata": {
      "needs_background": "light"
     },
     "output_type": "display_data"
    }
   ],
   "source": [
    "import sympy\n",
    "sympy.plot(\"1/(1+exp(-x))\", xlim=(-5,5));"
   ]
  },
  {
   "cell_type": "markdown",
   "id": "53c51866",
   "metadata": {
    "papermill": {
     "duration": 0.143413,
     "end_time": "2024-07-18T16:44:00.394901",
     "exception": false,
     "start_time": "2024-07-18T16:44:00.251488",
     "status": "completed"
    },
    "tags": []
   },
   "source": [
    "PyTorch already defines that function for us, so we can modify `calc_preds` to use it:"
   ]
  },
  {
   "cell_type": "code",
   "execution_count": 47,
   "id": "ca60104d",
   "metadata": {
    "execution": {
     "iopub.execute_input": "2024-07-18T16:44:00.685965Z",
     "iopub.status.busy": "2024-07-18T16:44:00.685688Z",
     "iopub.status.idle": "2024-07-18T16:44:00.690050Z",
     "shell.execute_reply": "2024-07-18T16:44:00.689287Z"
    },
    "papermill": {
     "duration": 0.153383,
     "end_time": "2024-07-18T16:44:00.691896",
     "exception": false,
     "start_time": "2024-07-18T16:44:00.538513",
     "status": "completed"
    },
    "tags": []
   },
   "outputs": [],
   "source": [
    "def calc_preds(coeffs, indeps): return torch.sigmoid((indeps*coeffs).sum(axis=1))"
   ]
  },
  {
   "cell_type": "markdown",
   "id": "b5a71f28",
   "metadata": {
    "papermill": {
     "duration": 0.143168,
     "end_time": "2024-07-18T16:44:00.978458",
     "exception": false,
     "start_time": "2024-07-18T16:44:00.835290",
     "status": "completed"
    },
    "tags": []
   },
   "source": [
    "Let's train a new model now, using this updated function to calculate predictions:"
   ]
  },
  {
   "cell_type": "code",
   "execution_count": 48,
   "id": "5c802a01",
   "metadata": {
    "execution": {
     "iopub.execute_input": "2024-07-18T16:44:01.268881Z",
     "iopub.status.busy": "2024-07-18T16:44:01.268614Z",
     "iopub.status.idle": "2024-07-18T16:44:01.287525Z",
     "shell.execute_reply": "2024-07-18T16:44:01.286762Z"
    },
    "papermill": {
     "duration": 0.166286,
     "end_time": "2024-07-18T16:44:01.289454",
     "exception": false,
     "start_time": "2024-07-18T16:44:01.123168",
     "status": "completed"
    },
    "tags": []
   },
   "outputs": [
    {
     "name": "stdout",
     "output_type": "stream",
     "text": [
      "0.510; 0.327; 0.294; 0.207; 0.201; 0.199; 0.198; 0.197; 0.196; 0.196; 0.196; 0.195; 0.195; 0.195; 0.195; 0.195; 0.195; 0.195; 0.194; 0.194; 0.194; 0.194; 0.194; 0.194; 0.194; 0.194; 0.194; 0.194; 0.194; 0.194; "
     ]
    }
   ],
   "source": [
    "coeffs = train_model(lr=100)"
   ]
  },
  {
   "cell_type": "markdown",
   "id": "7df2518f",
   "metadata": {
    "papermill": {
     "duration": 0.144736,
     "end_time": "2024-07-18T16:44:01.578356",
     "exception": false,
     "start_time": "2024-07-18T16:44:01.433620",
     "status": "completed"
    },
    "tags": []
   },
   "source": [
    "The loss has improved by a lot. Let's check the accuracy:"
   ]
  },
  {
   "cell_type": "code",
   "execution_count": 49,
   "id": "8858340c",
   "metadata": {
    "execution": {
     "iopub.execute_input": "2024-07-18T16:44:01.870487Z",
     "iopub.status.busy": "2024-07-18T16:44:01.870209Z",
     "iopub.status.idle": "2024-07-18T16:44:01.876133Z",
     "shell.execute_reply": "2024-07-18T16:44:01.875439Z"
    },
    "papermill": {
     "duration": 0.152603,
     "end_time": "2024-07-18T16:44:01.877841",
     "exception": false,
     "start_time": "2024-07-18T16:44:01.725238",
     "status": "completed"
    },
    "tags": []
   },
   "outputs": [
    {
     "data": {
      "text/plain": [
       "tensor(0.8258)"
      ]
     },
     "execution_count": 49,
     "metadata": {},
     "output_type": "execute_result"
    }
   ],
   "source": [
    "acc(coeffs)"
   ]
  },
  {
   "cell_type": "markdown",
   "id": "21c052f5",
   "metadata": {
    "papermill": {
     "duration": 0.144293,
     "end_time": "2024-07-18T16:44:02.166755",
     "exception": false,
     "start_time": "2024-07-18T16:44:02.022462",
     "status": "completed"
    },
    "tags": []
   },
   "source": [
    "That's improved too! Here's the coefficients of our trained model:"
   ]
  },
  {
   "cell_type": "code",
   "execution_count": 50,
   "id": "b6399434",
   "metadata": {
    "execution": {
     "iopub.execute_input": "2024-07-18T16:44:02.459002Z",
     "iopub.status.busy": "2024-07-18T16:44:02.458726Z",
     "iopub.status.idle": "2024-07-18T16:44:02.466891Z",
     "shell.execute_reply": "2024-07-18T16:44:02.466210Z"
    },
    "papermill": {
     "duration": 0.156226,
     "end_time": "2024-07-18T16:44:02.468724",
     "exception": false,
     "start_time": "2024-07-18T16:44:02.312498",
     "status": "completed"
    },
    "tags": []
   },
   "outputs": [
    {
     "data": {
      "text/plain": [
       "{'Age': tensor(-1.5061),\n",
       " 'SibSp': tensor(-1.1575),\n",
       " 'Parch': tensor(-0.4267),\n",
       " 'LogFare': tensor(0.2543),\n",
       " 'Sex_male': tensor(-10.3320),\n",
       " 'Sex_female': tensor(8.4185),\n",
       " 'Pclass_1': tensor(3.8389),\n",
       " 'Pclass_2': tensor(2.1398),\n",
       " 'Pclass_3': tensor(-6.2331),\n",
       " 'Embarked_C': tensor(1.4771),\n",
       " 'Embarked_Q': tensor(2.1168),\n",
       " 'Embarked_S': tensor(-4.7958)}"
      ]
     },
     "execution_count": 50,
     "metadata": {},
     "output_type": "execute_result"
    }
   ],
   "source": [
    "show_coeffs()"
   ]
  },
  {
   "cell_type": "markdown",
   "id": "504d69aa",
   "metadata": {
    "papermill": {
     "duration": 0.148154,
     "end_time": "2024-07-18T16:44:02.765191",
     "exception": false,
     "start_time": "2024-07-18T16:44:02.617037",
     "status": "completed"
    },
    "tags": []
   },
   "source": [
    "These coefficients seem reasonable -- in general, older people and males were less likely to survive, and first class passengers were more likely to survive."
   ]
  },
  {
   "cell_type": "markdown",
   "id": "f696f9e2",
   "metadata": {
    "papermill": {
     "duration": 0.144533,
     "end_time": "2024-07-18T16:44:03.056314",
     "exception": false,
     "start_time": "2024-07-18T16:44:02.911781",
     "status": "completed"
    },
    "tags": []
   },
   "source": [
    "## Submitting to Kaggle"
   ]
  },
  {
   "cell_type": "markdown",
   "id": "ff27f948",
   "metadata": {
    "papermill": {
     "duration": 0.145545,
     "end_time": "2024-07-18T16:44:03.346089",
     "exception": false,
     "start_time": "2024-07-18T16:44:03.200544",
     "status": "completed"
    },
    "tags": []
   },
   "source": [
    "Now that we've got a trained model, we can prepare a submission to Kaggle. To do that, first we need to read the test set:"
   ]
  },
  {
   "cell_type": "code",
   "execution_count": 51,
   "id": "9f481382",
   "metadata": {
    "execution": {
     "iopub.execute_input": "2024-07-18T16:44:03.640026Z",
     "iopub.status.busy": "2024-07-18T16:44:03.639746Z",
     "iopub.status.idle": "2024-07-18T16:44:03.650301Z",
     "shell.execute_reply": "2024-07-18T16:44:03.649745Z"
    },
    "papermill": {
     "duration": 0.16079,
     "end_time": "2024-07-18T16:44:03.652114",
     "exception": false,
     "start_time": "2024-07-18T16:44:03.491324",
     "status": "completed"
    },
    "tags": []
   },
   "outputs": [],
   "source": [
    "tst_df = pd.read_csv(path/'test.csv')"
   ]
  },
  {
   "cell_type": "markdown",
   "id": "40caca8a",
   "metadata": {
    "papermill": {
     "duration": 0.146841,
     "end_time": "2024-07-18T16:44:03.944609",
     "exception": false,
     "start_time": "2024-07-18T16:44:03.797768",
     "status": "completed"
    },
    "tags": []
   },
   "source": [
    "In this case, it turns out that the test set is missing `Fare` for one passenger. We'll just fill it with `0` to avoid problems:"
   ]
  },
  {
   "cell_type": "code",
   "execution_count": 52,
   "id": "3fef4424",
   "metadata": {
    "execution": {
     "iopub.execute_input": "2024-07-18T16:44:04.237662Z",
     "iopub.status.busy": "2024-07-18T16:44:04.237334Z",
     "iopub.status.idle": "2024-07-18T16:44:04.242291Z",
     "shell.execute_reply": "2024-07-18T16:44:04.241569Z"
    },
    "papermill": {
     "duration": 0.15394,
     "end_time": "2024-07-18T16:44:04.244169",
     "exception": false,
     "start_time": "2024-07-18T16:44:04.090229",
     "status": "completed"
    },
    "tags": []
   },
   "outputs": [],
   "source": [
    "tst_df['Fare'] = tst_df.Fare.fillna(0)"
   ]
  },
  {
   "cell_type": "markdown",
   "id": "a8f4820c",
   "metadata": {
    "papermill": {
     "duration": 0.144785,
     "end_time": "2024-07-18T16:44:04.535853",
     "exception": false,
     "start_time": "2024-07-18T16:44:04.391068",
     "status": "completed"
    },
    "tags": []
   },
   "source": [
    "Now we can just copy the same steps we did to our training set and do the same exact things on our test set to preprocess the data:"
   ]
  },
  {
   "cell_type": "code",
   "execution_count": 53,
   "id": "faa471c2",
   "metadata": {
    "execution": {
     "iopub.execute_input": "2024-07-18T16:44:04.828477Z",
     "iopub.status.busy": "2024-07-18T16:44:04.828210Z",
     "iopub.status.idle": "2024-07-18T16:44:04.846826Z",
     "shell.execute_reply": "2024-07-18T16:44:04.846223Z"
    },
    "papermill": {
     "duration": 0.166229,
     "end_time": "2024-07-18T16:44:04.848635",
     "exception": false,
     "start_time": "2024-07-18T16:44:04.682406",
     "status": "completed"
    },
    "tags": []
   },
   "outputs": [],
   "source": [
    "tst_df.fillna(modes, inplace=True)\n",
    "tst_df['LogFare'] = np.log(tst_df['Fare']+1)\n",
    "tst_df = pd.get_dummies(tst_df, columns=[\"Sex\",\"Pclass\",\"Embarked\"])\n",
    "\n",
    "tst_indep = tensor(tst_df[indep_cols].values, dtype=torch.float)\n",
    "tst_indep = tst_indep / vals"
   ]
  },
  {
   "cell_type": "markdown",
   "id": "21dacf54",
   "metadata": {
    "papermill": {
     "duration": 0.144005,
     "end_time": "2024-07-18T16:44:05.138024",
     "exception": false,
     "start_time": "2024-07-18T16:44:04.994019",
     "status": "completed"
    },
    "tags": []
   },
   "source": [
    "Let's calculate our predictions of which passengers survived in the test set:"
   ]
  },
  {
   "cell_type": "code",
   "execution_count": 54,
   "id": "b5f8c3b3",
   "metadata": {
    "execution": {
     "iopub.execute_input": "2024-07-18T16:44:05.429406Z",
     "iopub.status.busy": "2024-07-18T16:44:05.429039Z",
     "iopub.status.idle": "2024-07-18T16:44:05.434223Z",
     "shell.execute_reply": "2024-07-18T16:44:05.433590Z"
    },
    "papermill": {
     "duration": 0.153276,
     "end_time": "2024-07-18T16:44:05.436154",
     "exception": false,
     "start_time": "2024-07-18T16:44:05.282878",
     "status": "completed"
    },
    "tags": []
   },
   "outputs": [],
   "source": [
    "tst_df['Survived'] = (calc_preds(tst_indep, coeffs)>0.5).int()"
   ]
  },
  {
   "cell_type": "markdown",
   "id": "28cf389d",
   "metadata": {
    "papermill": {
     "duration": 0.16411,
     "end_time": "2024-07-18T16:44:05.747252",
     "exception": false,
     "start_time": "2024-07-18T16:44:05.583142",
     "status": "completed"
    },
    "tags": []
   },
   "source": [
    "The sample submission on the Kaggle competition site shows that we're expected to upload a CSV with just `PassengerId` and `Survived`, so let's create that and save it:"
   ]
  },
  {
   "cell_type": "code",
   "execution_count": 55,
   "id": "2f761b98",
   "metadata": {
    "execution": {
     "iopub.execute_input": "2024-07-18T16:44:06.038810Z",
     "iopub.status.busy": "2024-07-18T16:44:06.038523Z",
     "iopub.status.idle": "2024-07-18T16:44:06.048031Z",
     "shell.execute_reply": "2024-07-18T16:44:06.047250Z"
    },
    "papermill": {
     "duration": 0.158054,
     "end_time": "2024-07-18T16:44:06.049874",
     "exception": false,
     "start_time": "2024-07-18T16:44:05.891820",
     "status": "completed"
    },
    "tags": []
   },
   "outputs": [],
   "source": [
    "sub_df = tst_df[['PassengerId','Survived']]\n",
    "sub_df.to_csv('sub.csv', index=False)"
   ]
  },
  {
   "cell_type": "markdown",
   "id": "8de293a6",
   "metadata": {
    "papermill": {
     "duration": 0.144058,
     "end_time": "2024-07-18T16:44:06.338195",
     "exception": false,
     "start_time": "2024-07-18T16:44:06.194137",
     "status": "completed"
    },
    "tags": []
   },
   "source": [
    "We can check the first few rows of the file to make sure it looks reasonable:"
   ]
  },
  {
   "cell_type": "code",
   "execution_count": 56,
   "id": "46833155",
   "metadata": {
    "execution": {
     "iopub.execute_input": "2024-07-18T16:44:06.630082Z",
     "iopub.status.busy": "2024-07-18T16:44:06.629553Z",
     "iopub.status.idle": "2024-07-18T16:44:07.625765Z",
     "shell.execute_reply": "2024-07-18T16:44:07.625030Z"
    },
    "papermill": {
     "duration": 1.144784,
     "end_time": "2024-07-18T16:44:07.627914",
     "exception": false,
     "start_time": "2024-07-18T16:44:06.483130",
     "status": "completed"
    },
    "tags": []
   },
   "outputs": [
    {
     "name": "stdout",
     "output_type": "stream",
     "text": [
      "PassengerId,Survived\r\n",
      "892,0\r\n",
      "893,0\r\n",
      "894,0\r\n",
      "895,0\r\n",
      "896,0\r\n",
      "897,0\r\n",
      "898,1\r\n",
      "899,0\r\n",
      "900,1\r\n"
     ]
    }
   ],
   "source": [
    "!head sub.csv"
   ]
  },
  {
   "cell_type": "markdown",
   "id": "f944c280",
   "metadata": {
    "papermill": {
     "duration": 0.144982,
     "end_time": "2024-07-18T16:44:07.919839",
     "exception": false,
     "start_time": "2024-07-18T16:44:07.774857",
     "status": "completed"
    },
    "tags": []
   },
   "source": [
    "When you click \"save version\" in Kaggle, and wait for the notebook to run, you'll see that `sub.csv` appears in the \"Data\" tab. Clicking on that file will show a *Submit* button, which allows you to submit to the competition."
   ]
  },
  {
   "cell_type": "markdown",
   "id": "ceb1cfe1",
   "metadata": {
    "papermill": {
     "duration": 0.146315,
     "end_time": "2024-07-18T16:44:08.210795",
     "exception": false,
     "start_time": "2024-07-18T16:44:08.064480",
     "status": "completed"
    },
    "tags": []
   },
   "source": [
    "## Using matrix product"
   ]
  },
  {
   "cell_type": "markdown",
   "id": "f07d669e",
   "metadata": {
    "papermill": {
     "duration": 0.144529,
     "end_time": "2024-07-18T16:44:08.501192",
     "exception": false,
     "start_time": "2024-07-18T16:44:08.356663",
     "status": "completed"
    },
    "tags": []
   },
   "source": [
    "We can make things quite a bit neater...\n",
    "\n",
    "Take a look at the inner-most calculation we're doing to get the predictions:"
   ]
  },
  {
   "cell_type": "code",
   "execution_count": 57,
   "id": "126e8d2b",
   "metadata": {
    "execution": {
     "iopub.execute_input": "2024-07-18T16:44:08.797148Z",
     "iopub.status.busy": "2024-07-18T16:44:08.796852Z",
     "iopub.status.idle": "2024-07-18T16:44:08.805964Z",
     "shell.execute_reply": "2024-07-18T16:44:08.805219Z"
    },
    "papermill": {
     "duration": 0.15819,
     "end_time": "2024-07-18T16:44:08.807752",
     "exception": false,
     "start_time": "2024-07-18T16:44:08.649562",
     "status": "completed"
    },
    "tags": []
   },
   "outputs": [
    {
     "data": {
      "text/plain": [
       "tensor([ 12.3288, -14.8119, -15.4540, -13.1513, -13.3512, -13.6469,   3.6248,   5.3429, -22.0878,   3.1233, -21.8742, -15.6421, -21.5504,\n",
       "          3.9393, -21.9190, -12.0010, -12.3775,   5.3550, -13.5880,  -3.1015, -21.7237, -12.2081,  12.9767,   4.7427, -21.6525, -14.9135,\n",
       "         -2.7433, -12.3210, -21.5886,   3.9387,   5.3890,  -3.6196, -21.6296, -21.8454,  12.2159,  -3.2275, -12.0289,  13.4560, -21.7230,\n",
       "         -3.1366, -13.2462, -21.7230, -13.6831,  13.3092, -21.6477,  -3.5868, -21.6854, -21.8316, -14.8158,  -2.9386,  -5.3103, -22.2384,\n",
       "        -22.1097, -21.7466, -13.3780, -13.4909, -14.8119, -22.0690, -21.6666, -21.7818,  -5.4439, -21.7407, -12.6551, -21.6671,   4.9238,\n",
       "        -11.5777, -13.3323, -21.9638, -15.3030,   5.0243, -21.7614,   3.1820, -13.4721, -21.7170, -11.6066, -21.5737, -21.7230, -11.9652,\n",
       "        -13.2382, -13.7599, -13.2170,  13.1347, -21.7049, -21.7268,   4.9207,  -7.3198,  -5.3081,   7.1065,  11.4948, -13.3135, -21.8723,\n",
       "        -21.7230,  13.3603, -15.5670,   3.4105,  -7.2857, -13.7197,   3.6909,   3.9763, -14.7227, -21.8268,   3.9387, -21.8743, -21.8367,\n",
       "        -11.8518, -13.6712, -21.8299,   4.9440,  -5.4471, -21.9666,   5.1333,  -3.2187, -11.6008,  13.7920, -21.7230,  12.6369,  -3.7268,\n",
       "        -14.8119, -22.0637,  12.9468, -22.1610,  -6.1827, -14.8119,  -3.2838, -15.4540, -11.6950,  -2.9926,  -3.0110, -21.5664, -13.8268,\n",
       "          7.3426, -21.8418,   5.0744,   5.2582,  13.3415, -21.6289, -13.9898, -21.8112,  -7.3316,   5.2296, -13.4453,  12.7891, -22.1235,\n",
       "        -14.9625,  -3.4339,   6.3089, -21.9839,   3.1968,   7.2400,   2.8558,  -3.1187,   3.7965,   5.4667, -15.1101, -15.0597, -22.9391,\n",
       "        -21.7230,  -3.0346, -13.5206, -21.7011,  13.4425,  -7.2690, -21.8335, -12.0582,  13.0489,   6.7993,   5.2160,   5.0794, -12.6957,\n",
       "        -12.1838,  -3.0873, -21.6070,   7.0744, -21.7170, -22.1001,   6.8159, -11.6002, -21.6310])"
      ]
     },
     "execution_count": 57,
     "metadata": {},
     "output_type": "execute_result"
    }
   ],
   "source": [
    "(val_indep*coeffs).sum(axis=1)"
   ]
  },
  {
   "cell_type": "markdown",
   "id": "8a15732f",
   "metadata": {
    "papermill": {
     "duration": 0.144963,
     "end_time": "2024-07-18T16:44:09.098408",
     "exception": false,
     "start_time": "2024-07-18T16:44:08.953445",
     "status": "completed"
    },
    "tags": []
   },
   "source": [
    "Multiplying elements together and then adding across rows is identical to doing a matrix-vector product! Python uses the `@` operator to indicate matrix products, and is supported by PyTorch tensors. Therefore, we can replicate the above calculate more simply like so:"
   ]
  },
  {
   "cell_type": "code",
   "execution_count": 58,
   "id": "76147b53",
   "metadata": {
    "execution": {
     "iopub.execute_input": "2024-07-18T16:44:09.392626Z",
     "iopub.status.busy": "2024-07-18T16:44:09.392334Z",
     "iopub.status.idle": "2024-07-18T16:44:09.434905Z",
     "shell.execute_reply": "2024-07-18T16:44:09.434132Z"
    },
    "papermill": {
     "duration": 0.192533,
     "end_time": "2024-07-18T16:44:09.436770",
     "exception": false,
     "start_time": "2024-07-18T16:44:09.244237",
     "status": "completed"
    },
    "tags": []
   },
   "outputs": [
    {
     "data": {
      "text/plain": [
       "tensor([ 12.3288, -14.8119, -15.4540, -13.1513, -13.3511, -13.6468,   3.6248,   5.3429, -22.0878,   3.1233, -21.8742, -15.6421, -21.5504,\n",
       "          3.9393, -21.9190, -12.0010, -12.3775,   5.3550, -13.5880,  -3.1015, -21.7237, -12.2081,  12.9767,   4.7427, -21.6525, -14.9135,\n",
       "         -2.7433, -12.3210, -21.5886,   3.9387,   5.3890,  -3.6196, -21.6296, -21.8454,  12.2159,  -3.2275, -12.0289,  13.4560, -21.7230,\n",
       "         -3.1366, -13.2462, -21.7230, -13.6831,  13.3092, -21.6477,  -3.5868, -21.6854, -21.8316, -14.8158,  -2.9386,  -5.3103, -22.2384,\n",
       "        -22.1097, -21.7466, -13.3780, -13.4909, -14.8119, -22.0690, -21.6666, -21.7818,  -5.4439, -21.7407, -12.6551, -21.6671,   4.9238,\n",
       "        -11.5777, -13.3323, -21.9638, -15.3030,   5.0243, -21.7614,   3.1820, -13.4721, -21.7170, -11.6066, -21.5737, -21.7230, -11.9652,\n",
       "        -13.2382, -13.7599, -13.2170,  13.1347, -21.7049, -21.7268,   4.9207,  -7.3198,  -5.3081,   7.1065,  11.4948, -13.3135, -21.8723,\n",
       "        -21.7230,  13.3603, -15.5670,   3.4105,  -7.2857, -13.7197,   3.6909,   3.9763, -14.7227, -21.8268,   3.9387, -21.8743, -21.8367,\n",
       "        -11.8518, -13.6712, -21.8299,   4.9440,  -5.4471, -21.9666,   5.1333,  -3.2187, -11.6008,  13.7920, -21.7230,  12.6369,  -3.7268,\n",
       "        -14.8119, -22.0637,  12.9468, -22.1610,  -6.1827, -14.8119,  -3.2838, -15.4540, -11.6950,  -2.9926,  -3.0110, -21.5664, -13.8268,\n",
       "          7.3426, -21.8418,   5.0744,   5.2582,  13.3415, -21.6289, -13.9898, -21.8112,  -7.3316,   5.2296, -13.4453,  12.7891, -22.1235,\n",
       "        -14.9625,  -3.4339,   6.3089, -21.9839,   3.1968,   7.2400,   2.8558,  -3.1187,   3.7965,   5.4667, -15.1101, -15.0597, -22.9391,\n",
       "        -21.7230,  -3.0346, -13.5206, -21.7011,  13.4425,  -7.2690, -21.8335, -12.0582,  13.0489,   6.7993,   5.2160,   5.0794, -12.6957,\n",
       "        -12.1838,  -3.0873, -21.6070,   7.0744, -21.7170, -22.1001,   6.8159, -11.6002, -21.6310])"
      ]
     },
     "execution_count": 58,
     "metadata": {},
     "output_type": "execute_result"
    }
   ],
   "source": [
    "val_indep@coeffs"
   ]
  },
  {
   "cell_type": "markdown",
   "id": "c5fc9284",
   "metadata": {
    "papermill": {
     "duration": 0.147978,
     "end_time": "2024-07-18T16:44:09.730328",
     "exception": false,
     "start_time": "2024-07-18T16:44:09.582350",
     "status": "completed"
    },
    "tags": []
   },
   "source": [
    "It also turns out that this is much faster, because matrix products in PyTorch are very highly optimised.\n",
    "\n",
    "Let's use this to replace how `calc_preds` works:"
   ]
  },
  {
   "cell_type": "code",
   "execution_count": 59,
   "id": "8d0d1707",
   "metadata": {
    "execution": {
     "iopub.execute_input": "2024-07-18T16:44:10.023792Z",
     "iopub.status.busy": "2024-07-18T16:44:10.023513Z",
     "iopub.status.idle": "2024-07-18T16:44:10.027541Z",
     "shell.execute_reply": "2024-07-18T16:44:10.026861Z"
    },
    "papermill": {
     "duration": 0.152828,
     "end_time": "2024-07-18T16:44:10.029361",
     "exception": false,
     "start_time": "2024-07-18T16:44:09.876533",
     "status": "completed"
    },
    "tags": []
   },
   "outputs": [],
   "source": [
    "def calc_preds(coeffs, indeps): return torch.sigmoid(indeps@coeffs)"
   ]
  },
  {
   "cell_type": "markdown",
   "id": "c24424ff",
   "metadata": {
    "papermill": {
     "duration": 0.147939,
     "end_time": "2024-07-18T16:44:10.323469",
     "exception": false,
     "start_time": "2024-07-18T16:44:10.175530",
     "status": "completed"
    },
    "tags": []
   },
   "source": [
    "In order to do matrix-matrix products (which we'll need in the next section), we need to turn `coeffs` into a column vector (i.e. a matrix with a single column), which we can do by passing a second argument `1` to `torch.rand()`, indicating that we want our coefficients to have one column:"
   ]
  },
  {
   "cell_type": "code",
   "execution_count": 60,
   "id": "15cd41ab",
   "metadata": {
    "execution": {
     "iopub.execute_input": "2024-07-18T16:44:10.619408Z",
     "iopub.status.busy": "2024-07-18T16:44:10.618797Z",
     "iopub.status.idle": "2024-07-18T16:44:10.623094Z",
     "shell.execute_reply": "2024-07-18T16:44:10.622347Z"
    },
    "papermill": {
     "duration": 0.153537,
     "end_time": "2024-07-18T16:44:10.625003",
     "exception": false,
     "start_time": "2024-07-18T16:44:10.471466",
     "status": "completed"
    },
    "tags": []
   },
   "outputs": [],
   "source": [
    "def init_coeffs(): return (torch.rand(n_coeff, 1)*0.1).requires_grad_()"
   ]
  },
  {
   "cell_type": "markdown",
   "id": "71bfa5d5",
   "metadata": {
    "papermill": {
     "duration": 0.147582,
     "end_time": "2024-07-18T16:44:10.920312",
     "exception": false,
     "start_time": "2024-07-18T16:44:10.772730",
     "status": "completed"
    },
    "tags": []
   },
   "source": [
    "We'll also need to turn our dependent variable into a column vector, which we can do by indexing the column dimension with the special value `None`, which tells PyTorch to add a new dimension in this position:"
   ]
  },
  {
   "cell_type": "code",
   "execution_count": 61,
   "id": "2094f29f",
   "metadata": {
    "execution": {
     "iopub.execute_input": "2024-07-18T16:44:11.213363Z",
     "iopub.status.busy": "2024-07-18T16:44:11.212630Z",
     "iopub.status.idle": "2024-07-18T16:44:11.216718Z",
     "shell.execute_reply": "2024-07-18T16:44:11.216026Z"
    },
    "papermill": {
     "duration": 0.152288,
     "end_time": "2024-07-18T16:44:11.218564",
     "exception": false,
     "start_time": "2024-07-18T16:44:11.066276",
     "status": "completed"
    },
    "tags": []
   },
   "outputs": [],
   "source": [
    "trn_dep = trn_dep[:,None]\n",
    "val_dep = val_dep[:,None]"
   ]
  },
  {
   "cell_type": "markdown",
   "id": "f91c496c",
   "metadata": {
    "papermill": {
     "duration": 0.146995,
     "end_time": "2024-07-18T16:44:11.513206",
     "exception": false,
     "start_time": "2024-07-18T16:44:11.366211",
     "status": "completed"
    },
    "tags": []
   },
   "source": [
    "We can now train our model as before and confirm we get identical outputs...:"
   ]
  },
  {
   "cell_type": "code",
   "execution_count": 62,
   "id": "e6328106",
   "metadata": {
    "execution": {
     "iopub.execute_input": "2024-07-18T16:44:11.810575Z",
     "iopub.status.busy": "2024-07-18T16:44:11.809867Z",
     "iopub.status.idle": "2024-07-18T16:44:11.831443Z",
     "shell.execute_reply": "2024-07-18T16:44:11.830671Z"
    },
    "papermill": {
     "duration": 0.17202,
     "end_time": "2024-07-18T16:44:11.833258",
     "exception": false,
     "start_time": "2024-07-18T16:44:11.661238",
     "status": "completed"
    },
    "tags": []
   },
   "outputs": [
    {
     "name": "stdout",
     "output_type": "stream",
     "text": [
      "0.512; 0.323; 0.290; 0.205; 0.200; 0.198; 0.197; 0.197; 0.196; 0.196; 0.196; 0.195; 0.195; 0.195; 0.195; 0.195; 0.195; 0.194; 0.194; 0.194; 0.194; 0.194; 0.194; 0.194; 0.194; 0.194; 0.194; 0.194; 0.194; 0.194; "
     ]
    }
   ],
   "source": [
    "coeffs = train_model(lr=100)"
   ]
  },
  {
   "cell_type": "markdown",
   "id": "60ef5ce1",
   "metadata": {
    "papermill": {
     "duration": 0.146416,
     "end_time": "2024-07-18T16:44:12.126679",
     "exception": false,
     "start_time": "2024-07-18T16:44:11.980263",
     "status": "completed"
    },
    "tags": []
   },
   "source": [
    "...and identical accuracy:"
   ]
  },
  {
   "cell_type": "code",
   "execution_count": 63,
   "id": "f4a41487",
   "metadata": {
    "execution": {
     "iopub.execute_input": "2024-07-18T16:44:12.422402Z",
     "iopub.status.busy": "2024-07-18T16:44:12.421654Z",
     "iopub.status.idle": "2024-07-18T16:44:12.427787Z",
     "shell.execute_reply": "2024-07-18T16:44:12.427045Z"
    },
    "papermill": {
     "duration": 0.156518,
     "end_time": "2024-07-18T16:44:12.429599",
     "exception": false,
     "start_time": "2024-07-18T16:44:12.273081",
     "status": "completed"
    },
    "tags": []
   },
   "outputs": [
    {
     "data": {
      "text/plain": [
       "tensor(0.8258)"
      ]
     },
     "execution_count": 63,
     "metadata": {},
     "output_type": "execute_result"
    }
   ],
   "source": [
    "acc(coeffs)"
   ]
  },
  {
   "cell_type": "markdown",
   "id": "7013cff4",
   "metadata": {
    "papermill": {
     "duration": 0.149332,
     "end_time": "2024-07-18T16:44:12.729721",
     "exception": false,
     "start_time": "2024-07-18T16:44:12.580389",
     "status": "completed"
    },
    "tags": []
   },
   "source": [
    "## A neural network"
   ]
  },
  {
   "cell_type": "markdown",
   "id": "8058ccc4",
   "metadata": {
    "papermill": {
     "duration": 0.15573,
     "end_time": "2024-07-18T16:44:13.031237",
     "exception": false,
     "start_time": "2024-07-18T16:44:12.875507",
     "status": "completed"
    },
    "tags": []
   },
   "source": [
    "We've now got what we need to implement our neural network.\n",
    "\n",
    "First, we'll need to create coefficients for each of our layers. Our first set of coefficients will take our `n_coeff` inputs, and create `n_hidden` outputs. We can choose whatever `n_hidden` we like -- a higher number gives our network more flexibility, but makes it slower and harder to train. So we need a matrix of size `n_coeff` by `n_hidden`. We'll divide these coefficients by `n_hidden` so that when we sum them up in the next layer we'll end up with similar magnitude numbers to what we started with.\n",
    "\n",
    "Then our second layer will need to take the `n_hidden` inputs and create a single output, so that means we need a `n_hidden` by `1` matrix there. The second layer will also need a constant term added."
   ]
  },
  {
   "cell_type": "code",
   "execution_count": 64,
   "id": "2baf28ec",
   "metadata": {
    "execution": {
     "iopub.execute_input": "2024-07-18T16:44:13.336101Z",
     "iopub.status.busy": "2024-07-18T16:44:13.335417Z",
     "iopub.status.idle": "2024-07-18T16:44:13.340820Z",
     "shell.execute_reply": "2024-07-18T16:44:13.340107Z"
    },
    "papermill": {
     "duration": 0.155603,
     "end_time": "2024-07-18T16:44:13.342622",
     "exception": false,
     "start_time": "2024-07-18T16:44:13.187019",
     "status": "completed"
    },
    "tags": []
   },
   "outputs": [],
   "source": [
    "def init_coeffs(n_hidden=20):\n",
    "    layer1 = (torch.rand(n_coeff, n_hidden)-0.5)/n_hidden\n",
    "    layer2 = torch.rand(n_hidden, 1)-0.3\n",
    "    const = torch.rand(1)[0]\n",
    "    return layer1.requires_grad_(),layer2.requires_grad_(),const.requires_grad_()"
   ]
  },
  {
   "cell_type": "markdown",
   "id": "85fdcf1b",
   "metadata": {
    "papermill": {
     "duration": 0.14864,
     "end_time": "2024-07-18T16:44:13.640304",
     "exception": false,
     "start_time": "2024-07-18T16:44:13.491664",
     "status": "completed"
    },
    "tags": []
   },
   "source": [
    "Now we have our coefficients, we can create our neural net. The key steps are the two matrix products, `indeps@l1` and `res@l2` (where `res` is the output of the first layer). The first layer output is passed to `F.relu` (that's our non-linearity), and the second is passed to `torch.sigmoid` as before."
   ]
  },
  {
   "cell_type": "code",
   "execution_count": 65,
   "id": "234a9e8b",
   "metadata": {
    "execution": {
     "iopub.execute_input": "2024-07-18T16:44:13.940190Z",
     "iopub.status.busy": "2024-07-18T16:44:13.939897Z",
     "iopub.status.idle": "2024-07-18T16:44:13.944644Z",
     "shell.execute_reply": "2024-07-18T16:44:13.944011Z"
    },
    "papermill": {
     "duration": 0.155473,
     "end_time": "2024-07-18T16:44:13.946483",
     "exception": false,
     "start_time": "2024-07-18T16:44:13.791010",
     "status": "completed"
    },
    "tags": []
   },
   "outputs": [],
   "source": [
    "import torch.nn.functional as F\n",
    "\n",
    "def calc_preds(coeffs, indeps):\n",
    "    l1,l2,const = coeffs\n",
    "    res = F.relu(indeps@l1)\n",
    "    res = res@l2 + const\n",
    "    return torch.sigmoid(res)"
   ]
  },
  {
   "cell_type": "markdown",
   "id": "3ef7b04b",
   "metadata": {
    "papermill": {
     "duration": 0.147534,
     "end_time": "2024-07-18T16:44:14.241161",
     "exception": false,
     "start_time": "2024-07-18T16:44:14.093627",
     "status": "completed"
    },
    "tags": []
   },
   "source": [
    "Finally, now that we have more than one set of coefficients, we need to add a loop to update each one:"
   ]
  },
  {
   "cell_type": "code",
   "execution_count": 66,
   "id": "beca4033",
   "metadata": {
    "execution": {
     "iopub.execute_input": "2024-07-18T16:44:14.537741Z",
     "iopub.status.busy": "2024-07-18T16:44:14.537444Z",
     "iopub.status.idle": "2024-07-18T16:44:14.541842Z",
     "shell.execute_reply": "2024-07-18T16:44:14.541136Z"
    },
    "papermill": {
     "duration": 0.155358,
     "end_time": "2024-07-18T16:44:14.543605",
     "exception": false,
     "start_time": "2024-07-18T16:44:14.388247",
     "status": "completed"
    },
    "tags": []
   },
   "outputs": [],
   "source": [
    "def update_coeffs(coeffs, lr):\n",
    "    for layer in coeffs:\n",
    "        layer.sub_(layer.grad * lr)\n",
    "        layer.grad.zero_()"
   ]
  },
  {
   "cell_type": "markdown",
   "id": "99b318f4",
   "metadata": {
    "papermill": {
     "duration": 0.147697,
     "end_time": "2024-07-18T16:44:14.841825",
     "exception": false,
     "start_time": "2024-07-18T16:44:14.694128",
     "status": "completed"
    },
    "tags": []
   },
   "source": [
    "That's it -- we're now ready to train our model!"
   ]
  },
  {
   "cell_type": "code",
   "execution_count": 67,
   "id": "b05c1da6",
   "metadata": {
    "execution": {
     "iopub.execute_input": "2024-07-18T16:44:15.135477Z",
     "iopub.status.busy": "2024-07-18T16:44:15.134706Z",
     "iopub.status.idle": "2024-07-18T16:44:15.185287Z",
     "shell.execute_reply": "2024-07-18T16:44:15.184493Z"
    },
    "papermill": {
     "duration": 0.199512,
     "end_time": "2024-07-18T16:44:15.187230",
     "exception": false,
     "start_time": "2024-07-18T16:44:14.987718",
     "status": "completed"
    },
    "tags": []
   },
   "outputs": [
    {
     "name": "stdout",
     "output_type": "stream",
     "text": [
      "0.543; 0.532; 0.520; 0.505; 0.487; 0.466; 0.439; 0.407; 0.373; 0.343; 0.319; 0.301; 0.286; 0.274; 0.264; 0.256; 0.250; 0.245; 0.240; 0.237; 0.234; 0.231; 0.229; 0.227; 0.226; 0.224; 0.223; 0.222; 0.221; 0.220; "
     ]
    }
   ],
   "source": [
    "coeffs = train_model(lr=1.4)"
   ]
  },
  {
   "cell_type": "code",
   "execution_count": 68,
   "id": "55713b45",
   "metadata": {
    "execution": {
     "iopub.execute_input": "2024-07-18T16:44:15.497755Z",
     "iopub.status.busy": "2024-07-18T16:44:15.497141Z",
     "iopub.status.idle": "2024-07-18T16:44:15.520028Z",
     "shell.execute_reply": "2024-07-18T16:44:15.519165Z"
    },
    "papermill": {
     "duration": 0.185031,
     "end_time": "2024-07-18T16:44:15.521819",
     "exception": false,
     "start_time": "2024-07-18T16:44:15.336788",
     "status": "completed"
    },
    "tags": []
   },
   "outputs": [
    {
     "name": "stdout",
     "output_type": "stream",
     "text": [
      "0.543; 0.400; 0.260; 0.390; 0.221; 0.211; 0.197; 0.195; 0.193; 0.193; 0.193; 0.193; 0.193; 0.193; 0.193; 0.193; 0.193; 0.192; 0.192; 0.192; 0.192; 0.192; 0.192; 0.192; 0.192; 0.192; 0.192; 0.192; 0.192; 0.192; "
     ]
    }
   ],
   "source": [
    "coeffs = train_model(lr=20)"
   ]
  },
  {
   "cell_type": "markdown",
   "id": "a4630a21",
   "metadata": {
    "papermill": {
     "duration": 0.148018,
     "end_time": "2024-07-18T16:44:15.836327",
     "exception": false,
     "start_time": "2024-07-18T16:44:15.688309",
     "status": "completed"
    },
    "tags": []
   },
   "source": [
    "It's looking good -- our loss is lower than before. Let's see if that translates to a better result on the validation set:"
   ]
  },
  {
   "cell_type": "code",
   "execution_count": 69,
   "id": "f22a6950",
   "metadata": {
    "execution": {
     "iopub.execute_input": "2024-07-18T16:44:16.131523Z",
     "iopub.status.busy": "2024-07-18T16:44:16.130915Z",
     "iopub.status.idle": "2024-07-18T16:44:16.137224Z",
     "shell.execute_reply": "2024-07-18T16:44:16.136464Z"
    },
    "papermill": {
     "duration": 0.156103,
     "end_time": "2024-07-18T16:44:16.139077",
     "exception": false,
     "start_time": "2024-07-18T16:44:15.982974",
     "status": "completed"
    },
    "tags": []
   },
   "outputs": [
    {
     "data": {
      "text/plain": [
       "tensor(0.8258)"
      ]
     },
     "execution_count": 69,
     "metadata": {},
     "output_type": "execute_result"
    }
   ],
   "source": [
    "acc(coeffs)"
   ]
  },
  {
   "cell_type": "markdown",
   "id": "b10c80da",
   "metadata": {
    "papermill": {
     "duration": 0.147702,
     "end_time": "2024-07-18T16:44:16.435498",
     "exception": false,
     "start_time": "2024-07-18T16:44:16.287796",
     "status": "completed"
    },
    "tags": []
   },
   "source": [
    "In this case our neural net isn't showing better results than the linear model. That's not surprising; this dataset is very small and very simple, and isn't the kind of thing we'd expect to see neural networks excel at. Furthermore, our validation set is too small to reliably see much accuracy difference. But the key thing is that we now know exactly what a real neural net looks like!"
   ]
  },
  {
   "cell_type": "markdown",
   "id": "f5295df9",
   "metadata": {
    "papermill": {
     "duration": 0.149964,
     "end_time": "2024-07-18T16:44:16.734195",
     "exception": false,
     "start_time": "2024-07-18T16:44:16.584231",
     "status": "completed"
    },
    "tags": []
   },
   "source": [
    "## Deep learning"
   ]
  },
  {
   "cell_type": "markdown",
   "id": "2843b6fc",
   "metadata": {
    "papermill": {
     "duration": 0.148224,
     "end_time": "2024-07-18T16:44:17.031240",
     "exception": false,
     "start_time": "2024-07-18T16:44:16.883016",
     "status": "completed"
    },
    "tags": []
   },
   "source": [
    "The neural net in the previous section only uses one hidden layer, so it doesn't count as \"deep\" learning. But we can use the exact same technique to make our neural net deep, by adding more matrix multiplications.\n",
    "\n",
    "First, we'll need to create additional coefficients for each layer:"
   ]
  },
  {
   "cell_type": "code",
   "execution_count": 70,
   "id": "020e59cd",
   "metadata": {
    "execution": {
     "iopub.execute_input": "2024-07-18T16:44:17.327554Z",
     "iopub.status.busy": "2024-07-18T16:44:17.327273Z",
     "iopub.status.idle": "2024-07-18T16:44:17.333648Z",
     "shell.execute_reply": "2024-07-18T16:44:17.332976Z"
    },
    "papermill": {
     "duration": 0.157599,
     "end_time": "2024-07-18T16:44:17.335547",
     "exception": false,
     "start_time": "2024-07-18T16:44:17.177948",
     "status": "completed"
    },
    "tags": []
   },
   "outputs": [],
   "source": [
    "def init_coeffs():\n",
    "    hiddens = [10, 10]  # <-- set this to the size of each hidden layer you want\n",
    "    sizes = [n_coeff] + hiddens + [1]\n",
    "    n = len(sizes)\n",
    "    layers = [(torch.rand(sizes[i], sizes[i+1])-0.3)/sizes[i+1]*4 for i in range(n-1)]\n",
    "    consts = [(torch.rand(1)[0]-0.5)*0.1 for i in range(n-1)]\n",
    "    for l in layers+consts: l.requires_grad_()\n",
    "    return layers,consts"
   ]
  },
  {
   "cell_type": "markdown",
   "id": "b5296f50",
   "metadata": {
    "papermill": {
     "duration": 0.147081,
     "end_time": "2024-07-18T16:44:17.632292",
     "exception": false,
     "start_time": "2024-07-18T16:44:17.485211",
     "status": "completed"
    },
    "tags": []
   },
   "source": [
    "You'll notice here that there's a lot of messy constants to get the random numbers in just the right ranges. When you train the model in a moment, you'll see that the tiniest changes to these initialisations can cause our model to fail to train at all! This is a key reason that deep learning failed to make much progress in the early days -- it's very finicky to get a good starting point for our coefficients. Nowadays, we have ways to deal with that, which we'll learn about in other notebooks.\n",
    "\n",
    "Our deep learning `calc_preds` looks much the same as before, but now we loop through each layer, instead of listing them separately:"
   ]
  },
  {
   "cell_type": "code",
   "execution_count": 71,
   "id": "d521bf06",
   "metadata": {
    "execution": {
     "iopub.execute_input": "2024-07-18T16:44:17.932445Z",
     "iopub.status.busy": "2024-07-18T16:44:17.931753Z",
     "iopub.status.idle": "2024-07-18T16:44:17.937281Z",
     "shell.execute_reply": "2024-07-18T16:44:17.936622Z"
    },
    "papermill": {
     "duration": 0.156551,
     "end_time": "2024-07-18T16:44:17.938975",
     "exception": false,
     "start_time": "2024-07-18T16:44:17.782424",
     "status": "completed"
    },
    "tags": []
   },
   "outputs": [],
   "source": [
    "import torch.nn.functional as F\n",
    "\n",
    "def calc_preds(coeffs, indeps):\n",
    "    layers,consts = coeffs\n",
    "    n = len(layers)\n",
    "    res = indeps\n",
    "    for i,l in enumerate(layers):\n",
    "        res = res@l + consts[i]\n",
    "        if i!=n-1: res = F.relu(res)\n",
    "    return torch.sigmoid(res)"
   ]
  },
  {
   "cell_type": "markdown",
   "id": "6d02f599",
   "metadata": {
    "papermill": {
     "duration": 0.147608,
     "end_time": "2024-07-18T16:44:18.234436",
     "exception": false,
     "start_time": "2024-07-18T16:44:18.086828",
     "status": "completed"
    },
    "tags": []
   },
   "source": [
    "We also need a minor update to `update_coeffs` since we've got `layers` and `consts` separated now:"
   ]
  },
  {
   "cell_type": "code",
   "execution_count": 72,
   "id": "e9bb884c",
   "metadata": {
    "execution": {
     "iopub.execute_input": "2024-07-18T16:44:18.533893Z",
     "iopub.status.busy": "2024-07-18T16:44:18.533165Z",
     "iopub.status.idle": "2024-07-18T16:44:18.537764Z",
     "shell.execute_reply": "2024-07-18T16:44:18.537093Z"
    },
    "papermill": {
     "duration": 0.156916,
     "end_time": "2024-07-18T16:44:18.539608",
     "exception": false,
     "start_time": "2024-07-18T16:44:18.382692",
     "status": "completed"
    },
    "tags": []
   },
   "outputs": [],
   "source": [
    "def update_coeffs(coeffs, lr):\n",
    "    layers,consts = coeffs\n",
    "    for layer in layers+consts:\n",
    "        layer.sub_(layer.grad * lr)\n",
    "        layer.grad.zero_()"
   ]
  },
  {
   "cell_type": "markdown",
   "id": "4c52e744",
   "metadata": {
    "papermill": {
     "duration": 0.148566,
     "end_time": "2024-07-18T16:44:18.837082",
     "exception": false,
     "start_time": "2024-07-18T16:44:18.688516",
     "status": "completed"
    },
    "tags": []
   },
   "source": [
    "Let's train our model..."
   ]
  },
  {
   "cell_type": "code",
   "execution_count": 73,
   "id": "3995a097",
   "metadata": {
    "execution": {
     "iopub.execute_input": "2024-07-18T16:44:19.134821Z",
     "iopub.status.busy": "2024-07-18T16:44:19.134223Z",
     "iopub.status.idle": "2024-07-18T16:44:19.163888Z",
     "shell.execute_reply": "2024-07-18T16:44:19.163132Z"
    },
    "papermill": {
     "duration": 0.18015,
     "end_time": "2024-07-18T16:44:19.165602",
     "exception": false,
     "start_time": "2024-07-18T16:44:18.985452",
     "status": "completed"
    },
    "tags": []
   },
   "outputs": [
    {
     "name": "stdout",
     "output_type": "stream",
     "text": [
      "0.521; 0.483; 0.427; 0.379; 0.379; 0.379; 0.379; 0.378; 0.378; 0.378; 0.378; 0.378; 0.378; 0.378; 0.378; 0.378; 0.377; 0.376; 0.371; 0.333; 0.239; 0.224; 0.208; 0.204; 0.203; 0.203; 0.207; 0.197; 0.196; 0.195; "
     ]
    }
   ],
   "source": [
    "coeffs = train_model(lr=4)"
   ]
  },
  {
   "cell_type": "markdown",
   "id": "c4bd32bb",
   "metadata": {
    "papermill": {
     "duration": 0.158723,
     "end_time": "2024-07-18T16:44:19.472994",
     "exception": false,
     "start_time": "2024-07-18T16:44:19.314271",
     "status": "completed"
    },
    "tags": []
   },
   "source": [
    "...and check its accuracy:"
   ]
  },
  {
   "cell_type": "code",
   "execution_count": 74,
   "id": "485d01dd",
   "metadata": {
    "execution": {
     "iopub.execute_input": "2024-07-18T16:44:19.775744Z",
     "iopub.status.busy": "2024-07-18T16:44:19.775037Z",
     "iopub.status.idle": "2024-07-18T16:44:19.781291Z",
     "shell.execute_reply": "2024-07-18T16:44:19.780625Z"
    },
    "papermill": {
     "duration": 0.161091,
     "end_time": "2024-07-18T16:44:19.783103",
     "exception": false,
     "start_time": "2024-07-18T16:44:19.622012",
     "status": "completed"
    },
    "tags": []
   },
   "outputs": [
    {
     "data": {
      "text/plain": [
       "tensor(0.8258)"
      ]
     },
     "execution_count": 74,
     "metadata": {},
     "output_type": "execute_result"
    }
   ],
   "source": [
    "acc(coeffs)"
   ]
  },
  {
   "cell_type": "markdown",
   "id": "be5d3360",
   "metadata": {
    "papermill": {
     "duration": 0.149111,
     "end_time": "2024-07-18T16:44:20.080789",
     "exception": false,
     "start_time": "2024-07-18T16:44:19.931678",
     "status": "completed"
    },
    "tags": []
   },
   "source": [
    "## Final thoughts"
   ]
  },
  {
   "cell_type": "markdown",
   "id": "3854b172",
   "metadata": {
    "papermill": {
     "duration": 0.150193,
     "end_time": "2024-07-18T16:44:20.380061",
     "exception": false,
     "start_time": "2024-07-18T16:44:20.229868",
     "status": "completed"
    },
    "tags": []
   },
   "source": [
    "It's actually pretty cool that we've managed to create a real deep learning model from scratch and trained it to get over 80% accuracy on this task, all in the course of a single notebook!\n",
    "\n",
    "The \"real\" deep learning models that are used in research and industry look very similar to this, and in fact if you look inside the source code of any deep learning model you'll recognise the basic steps are the same.\n",
    "\n",
    "The biggest differences in practical models to what we have above are:\n",
    "\n",
    "- How initialisation and normalisation is done to ensure the model trains correctly every time\n",
    "- Regularization (to avoid over-fitting)\n",
    "- Modifying the neural net itself to take advantage of knowledge of the problem domain\n",
    "- Doing gradient descent steps on smaller batches, rather than the whole dataset.\n",
    "\n",
    "I'll be adding notebooks about all these later, and will add links here once they're ready.\n",
    "\n",
    "If you found this notebook useful, please remember to click the little up-arrow at the top to upvote it, since I like to know when people have found my work useful, and it helps others find it too. (BTW, be sure you're looking at my [original notebook here](https://www.kaggle.com/code/jhoward/linear-model-and-neural-net-from-scratch) when you do that, and are not on your own copy of it, otherwise your upvote won't get counted!) And if you have any questions or comments, please pop them below -- I read every comment I receive!"
   ]
  },
  {
   "cell_type": "code",
   "execution_count": null,
   "id": "0155004b",
   "metadata": {
    "papermill": {
     "duration": 0.148939,
     "end_time": "2024-07-18T16:44:20.677690",
     "exception": false,
     "start_time": "2024-07-18T16:44:20.528751",
     "status": "completed"
    },
    "tags": []
   },
   "outputs": [],
   "source": []
  }
 ],
 "metadata": {
  "kaggle": {
   "accelerator": "nvidiaTeslaT4",
   "dataSources": [
    {
     "databundleVersionId": 26502,
     "sourceId": 3136,
     "sourceType": "competition"
    }
   ],
   "dockerImageVersionId": 30184,
   "isGpuEnabled": true,
   "isInternetEnabled": true,
   "language": "python",
   "sourceType": "notebook"
  },
  "kernelspec": {
   "display_name": "Python 3",
   "language": "python",
   "name": "python3"
  },
  "language_info": {
   "codemirror_mode": {
    "name": "ipython",
    "version": 3
   },
   "file_extension": ".py",
   "mimetype": "text/x-python",
   "name": "python",
   "nbconvert_exporter": "python",
   "pygments_lexer": "ipython3",
   "version": "3.7.12"
  },
  "papermill": {
   "default_parameters": {},
   "duration": 63.369011,
   "end_time": "2024-07-18T16:44:21.949267",
   "environment_variables": {},
   "exception": null,
   "input_path": "__notebook__.ipynb",
   "output_path": "__notebook__.ipynb",
   "parameters": {},
   "start_time": "2024-07-18T16:43:18.580256",
   "version": "2.3.4"
  }
 },
 "nbformat": 4,
 "nbformat_minor": 5
}
